{
  "nbformat": 4,
  "nbformat_minor": 0,
  "metadata": {
    "colab": {
      "name": "Copia di ADM-Project.ipynb",
      "provenance": [],
      "collapsed_sections": [],
      "include_colab_link": true
    },
    "kernelspec": {
      "name": "python3",
      "display_name": "Python 3"
    },
    "language_info": {
      "name": "python"
    }
  },
  "cells": [
    {
      "cell_type": "markdown",
      "metadata": {
        "id": "view-in-github",
        "colab_type": "text"
      },
      "source": [
        "<a href=\"https://colab.research.google.com/github/paolaserra/Algorithms-for-massive-datasets/blob/main/Copia_di_ADM_Project.ipynb\" target=\"_parent\"><img src=\"https://colab.research.google.com/assets/colab-badge.svg\" alt=\"Open In Colab\"/></a>"
      ]
    },
    {
      "cell_type": "code",
      "execution_count": null,
      "metadata": {
        "id": "qgYHmQ40lF4h"
      },
      "outputs": [],
      "source": [
        "#starting the project"
      ]
    },
    {
      "cell_type": "code",
      "source": [
        "!lscpu "
      ],
      "metadata": {
        "colab": {
          "base_uri": "https://localhost:8080/"
        },
        "id": "zgfLGvJbTgwu",
        "outputId": "c5010066-0b78-4359-9761-deef3badbe65"
      },
      "execution_count": null,
      "outputs": [
        {
          "output_type": "stream",
          "name": "stdout",
          "text": [
            "Architecture:        x86_64\n",
            "CPU op-mode(s):      32-bit, 64-bit\n",
            "Byte Order:          Little Endian\n",
            "CPU(s):              2\n",
            "On-line CPU(s) list: 0,1\n",
            "Thread(s) per core:  2\n",
            "Core(s) per socket:  1\n",
            "Socket(s):           1\n",
            "NUMA node(s):        1\n",
            "Vendor ID:           GenuineIntel\n",
            "CPU family:          6\n",
            "Model:               79\n",
            "Model name:          Intel(R) Xeon(R) CPU @ 2.20GHz\n",
            "Stepping:            0\n",
            "CPU MHz:             2199.998\n",
            "BogoMIPS:            4399.99\n",
            "Hypervisor vendor:   KVM\n",
            "Virtualization type: full\n",
            "L1d cache:           32K\n",
            "L1i cache:           32K\n",
            "L2 cache:            256K\n",
            "L3 cache:            56320K\n",
            "NUMA node0 CPU(s):   0,1\n",
            "Flags:               fpu vme de pse tsc msr pae mce cx8 apic sep mtrr pge mca cmov pat pse36 clflush mmx fxsr sse sse2 ss ht syscall nx pdpe1gb rdtscp lm constant_tsc rep_good nopl xtopology nonstop_tsc cpuid tsc_known_freq pni pclmulqdq ssse3 fma cx16 pcid sse4_1 sse4_2 x2apic movbe popcnt aes xsave avx f16c rdrand hypervisor lahf_lm abm 3dnowprefetch invpcid_single ssbd ibrs ibpb stibp fsgsbase tsc_adjust bmi1 hle avx2 smep bmi2 erms invpcid rtm rdseed adx smap xsaveopt arat md_clear arch_capabilities\n"
          ]
        }
      ]
    },
    {
      "cell_type": "markdown",
      "source": [
        "### **Access Kaggle API, download the \"Old Newspapers\" dataset and unzip it**"
      ],
      "metadata": {
        "id": "mML4Mo8F9l2p"
      }
    },
    {
      "cell_type": "code",
      "source": [
        "# upload token file kaggle.json\n",
        "\n",
        "from google.colab import files\n",
        "files.upload()"
      ],
      "metadata": {
        "id": "DCX1hs3W4jCt",
        "outputId": "d3e5d85e-1ee9-49bf-9466-999d535923cc",
        "colab": {
          "resources": {
            "http://localhost:8080/nbextensions/google.colab/files.js": {
              "data": "Ly8gQ29weXJpZ2h0IDIwMTcgR29vZ2xlIExMQwovLwovLyBMaWNlbnNlZCB1bmRlciB0aGUgQXBhY2hlIExpY2Vuc2UsIFZlcnNpb24gMi4wICh0aGUgIkxpY2Vuc2UiKTsKLy8geW91IG1heSBub3QgdXNlIHRoaXMgZmlsZSBleGNlcHQgaW4gY29tcGxpYW5jZSB3aXRoIHRoZSBMaWNlbnNlLgovLyBZb3UgbWF5IG9idGFpbiBhIGNvcHkgb2YgdGhlIExpY2Vuc2UgYXQKLy8KLy8gICAgICBodHRwOi8vd3d3LmFwYWNoZS5vcmcvbGljZW5zZXMvTElDRU5TRS0yLjAKLy8KLy8gVW5sZXNzIHJlcXVpcmVkIGJ5IGFwcGxpY2FibGUgbGF3IG9yIGFncmVlZCB0byBpbiB3cml0aW5nLCBzb2Z0d2FyZQovLyBkaXN0cmlidXRlZCB1bmRlciB0aGUgTGljZW5zZSBpcyBkaXN0cmlidXRlZCBvbiBhbiAiQVMgSVMiIEJBU0lTLAovLyBXSVRIT1VUIFdBUlJBTlRJRVMgT1IgQ09ORElUSU9OUyBPRiBBTlkgS0lORCwgZWl0aGVyIGV4cHJlc3Mgb3IgaW1wbGllZC4KLy8gU2VlIHRoZSBMaWNlbnNlIGZvciB0aGUgc3BlY2lmaWMgbGFuZ3VhZ2UgZ292ZXJuaW5nIHBlcm1pc3Npb25zIGFuZAovLyBsaW1pdGF0aW9ucyB1bmRlciB0aGUgTGljZW5zZS4KCi8qKgogKiBAZmlsZW92ZXJ2aWV3IEhlbHBlcnMgZm9yIGdvb2dsZS5jb2xhYiBQeXRob24gbW9kdWxlLgogKi8KKGZ1bmN0aW9uKHNjb3BlKSB7CmZ1bmN0aW9uIHNwYW4odGV4dCwgc3R5bGVBdHRyaWJ1dGVzID0ge30pIHsKICBjb25zdCBlbGVtZW50ID0gZG9jdW1lbnQuY3JlYXRlRWxlbWVudCgnc3BhbicpOwogIGVsZW1lbnQudGV4dENvbnRlbnQgPSB0ZXh0OwogIGZvciAoY29uc3Qga2V5IG9mIE9iamVjdC5rZXlzKHN0eWxlQXR0cmlidXRlcykpIHsKICAgIGVsZW1lbnQuc3R5bGVba2V5XSA9IHN0eWxlQXR0cmlidXRlc1trZXldOwogIH0KICByZXR1cm4gZWxlbWVudDsKfQoKLy8gTWF4IG51bWJlciBvZiBieXRlcyB3aGljaCB3aWxsIGJlIHVwbG9hZGVkIGF0IGEgdGltZS4KY29uc3QgTUFYX1BBWUxPQURfU0laRSA9IDEwMCAqIDEwMjQ7CgpmdW5jdGlvbiBfdXBsb2FkRmlsZXMoaW5wdXRJZCwgb3V0cHV0SWQpIHsKICBjb25zdCBzdGVwcyA9IHVwbG9hZEZpbGVzU3RlcChpbnB1dElkLCBvdXRwdXRJZCk7CiAgY29uc3Qgb3V0cHV0RWxlbWVudCA9IGRvY3VtZW50LmdldEVsZW1lbnRCeUlkKG91dHB1dElkKTsKICAvLyBDYWNoZSBzdGVwcyBvbiB0aGUgb3V0cHV0RWxlbWVudCB0byBtYWtlIGl0IGF2YWlsYWJsZSBmb3IgdGhlIG5leHQgY2FsbAogIC8vIHRvIHVwbG9hZEZpbGVzQ29udGludWUgZnJvbSBQeXRob24uCiAgb3V0cHV0RWxlbWVudC5zdGVwcyA9IHN0ZXBzOwoKICByZXR1cm4gX3VwbG9hZEZpbGVzQ29udGludWUob3V0cHV0SWQpOwp9CgovLyBUaGlzIGlzIHJvdWdobHkgYW4gYXN5bmMgZ2VuZXJhdG9yIChub3Qgc3VwcG9ydGVkIGluIHRoZSBicm93c2VyIHlldCksCi8vIHdoZXJlIHRoZXJlIGFyZSBtdWx0aXBsZSBhc3luY2hyb25vdXMgc3RlcHMgYW5kIHRoZSBQeXRob24gc2lkZSBpcyBnb2luZwovLyB0byBwb2xsIGZvciBjb21wbGV0aW9uIG9mIGVhY2ggc3RlcC4KLy8gVGhpcyB1c2VzIGEgUHJvbWlzZSB0byBibG9jayB0aGUgcHl0aG9uIHNpZGUgb24gY29tcGxldGlvbiBvZiBlYWNoIHN0ZXAsCi8vIHRoZW4gcGFzc2VzIHRoZSByZXN1bHQgb2YgdGhlIHByZXZpb3VzIHN0ZXAgYXMgdGhlIGlucHV0IHRvIHRoZSBuZXh0IHN0ZXAuCmZ1bmN0aW9uIF91cGxvYWRGaWxlc0NvbnRpbnVlKG91dHB1dElkKSB7CiAgY29uc3Qgb3V0cHV0RWxlbWVudCA9IGRvY3VtZW50LmdldEVsZW1lbnRCeUlkKG91dHB1dElkKTsKICBjb25zdCBzdGVwcyA9IG91dHB1dEVsZW1lbnQuc3RlcHM7CgogIGNvbnN0IG5leHQgPSBzdGVwcy5uZXh0KG91dHB1dEVsZW1lbnQubGFzdFByb21pc2VWYWx1ZSk7CiAgcmV0dXJuIFByb21pc2UucmVzb2x2ZShuZXh0LnZhbHVlLnByb21pc2UpLnRoZW4oKHZhbHVlKSA9PiB7CiAgICAvLyBDYWNoZSB0aGUgbGFzdCBwcm9taXNlIHZhbHVlIHRvIG1ha2UgaXQgYXZhaWxhYmxlIHRvIHRoZSBuZXh0CiAgICAvLyBzdGVwIG9mIHRoZSBnZW5lcmF0b3IuCiAgICBvdXRwdXRFbGVtZW50Lmxhc3RQcm9taXNlVmFsdWUgPSB2YWx1ZTsKICAgIHJldHVybiBuZXh0LnZhbHVlLnJlc3BvbnNlOwogIH0pOwp9CgovKioKICogR2VuZXJhdG9yIGZ1bmN0aW9uIHdoaWNoIGlzIGNhbGxlZCBiZXR3ZWVuIGVhY2ggYXN5bmMgc3RlcCBvZiB0aGUgdXBsb2FkCiAqIHByb2Nlc3MuCiAqIEBwYXJhbSB7c3RyaW5nfSBpbnB1dElkIEVsZW1lbnQgSUQgb2YgdGhlIGlucHV0IGZpbGUgcGlja2VyIGVsZW1lbnQuCiAqIEBwYXJhbSB7c3RyaW5nfSBvdXRwdXRJZCBFbGVtZW50IElEIG9mIHRoZSBvdXRwdXQgZGlzcGxheS4KICogQHJldHVybiB7IUl0ZXJhYmxlPCFPYmplY3Q+fSBJdGVyYWJsZSBvZiBuZXh0IHN0ZXBzLgogKi8KZnVuY3Rpb24qIHVwbG9hZEZpbGVzU3RlcChpbnB1dElkLCBvdXRwdXRJZCkgewogIGNvbnN0IGlucHV0RWxlbWVudCA9IGRvY3VtZW50LmdldEVsZW1lbnRCeUlkKGlucHV0SWQpOwogIGlucHV0RWxlbWVudC5kaXNhYmxlZCA9IGZhbHNlOwoKICBjb25zdCBvdXRwdXRFbGVtZW50ID0gZG9jdW1lbnQuZ2V0RWxlbWVudEJ5SWQob3V0cHV0SWQpOwogIG91dHB1dEVsZW1lbnQuaW5uZXJIVE1MID0gJyc7CgogIGNvbnN0IHBpY2tlZFByb21pc2UgPSBuZXcgUHJvbWlzZSgocmVzb2x2ZSkgPT4gewogICAgaW5wdXRFbGVtZW50LmFkZEV2ZW50TGlzdGVuZXIoJ2NoYW5nZScsIChlKSA9PiB7CiAgICAgIHJlc29sdmUoZS50YXJnZXQuZmlsZXMpOwogICAgfSk7CiAgfSk7CgogIGNvbnN0IGNhbmNlbCA9IGRvY3VtZW50LmNyZWF0ZUVsZW1lbnQoJ2J1dHRvbicpOwogIGlucHV0RWxlbWVudC5wYXJlbnRFbGVtZW50LmFwcGVuZENoaWxkKGNhbmNlbCk7CiAgY2FuY2VsLnRleHRDb250ZW50ID0gJ0NhbmNlbCB1cGxvYWQnOwogIGNvbnN0IGNhbmNlbFByb21pc2UgPSBuZXcgUHJvbWlzZSgocmVzb2x2ZSkgPT4gewogICAgY2FuY2VsLm9uY2xpY2sgPSAoKSA9PiB7CiAgICAgIHJlc29sdmUobnVsbCk7CiAgICB9OwogIH0pOwoKICAvLyBXYWl0IGZvciB0aGUgdXNlciB0byBwaWNrIHRoZSBmaWxlcy4KICBjb25zdCBmaWxlcyA9IHlpZWxkIHsKICAgIHByb21pc2U6IFByb21pc2UucmFjZShbcGlja2VkUHJvbWlzZSwgY2FuY2VsUHJvbWlzZV0pLAogICAgcmVzcG9uc2U6IHsKICAgICAgYWN0aW9uOiAnc3RhcnRpbmcnLAogICAgfQogIH07CgogIGNhbmNlbC5yZW1vdmUoKTsKCiAgLy8gRGlzYWJsZSB0aGUgaW5wdXQgZWxlbWVudCBzaW5jZSBmdXJ0aGVyIHBpY2tzIGFyZSBub3QgYWxsb3dlZC4KICBpbnB1dEVsZW1lbnQuZGlzYWJsZWQgPSB0cnVlOwoKICBpZiAoIWZpbGVzKSB7CiAgICByZXR1cm4gewogICAgICByZXNwb25zZTogewogICAgICAgIGFjdGlvbjogJ2NvbXBsZXRlJywKICAgICAgfQogICAgfTsKICB9CgogIGZvciAoY29uc3QgZmlsZSBvZiBmaWxlcykgewogICAgY29uc3QgbGkgPSBkb2N1bWVudC5jcmVhdGVFbGVtZW50KCdsaScpOwogICAgbGkuYXBwZW5kKHNwYW4oZmlsZS5uYW1lLCB7Zm9udFdlaWdodDogJ2JvbGQnfSkpOwogICAgbGkuYXBwZW5kKHNwYW4oCiAgICAgICAgYCgke2ZpbGUudHlwZSB8fCAnbi9hJ30pIC0gJHtmaWxlLnNpemV9IGJ5dGVzLCBgICsKICAgICAgICBgbGFzdCBtb2RpZmllZDogJHsKICAgICAgICAgICAgZmlsZS5sYXN0TW9kaWZpZWREYXRlID8gZmlsZS5sYXN0TW9kaWZpZWREYXRlLnRvTG9jYWxlRGF0ZVN0cmluZygpIDoKICAgICAgICAgICAgICAgICAgICAgICAgICAgICAgICAgICAgJ24vYSd9IC0gYCkpOwogICAgY29uc3QgcGVyY2VudCA9IHNwYW4oJzAlIGRvbmUnKTsKICAgIGxpLmFwcGVuZENoaWxkKHBlcmNlbnQpOwoKICAgIG91dHB1dEVsZW1lbnQuYXBwZW5kQ2hpbGQobGkpOwoKICAgIGNvbnN0IGZpbGVEYXRhUHJvbWlzZSA9IG5ldyBQcm9taXNlKChyZXNvbHZlKSA9PiB7CiAgICAgIGNvbnN0IHJlYWRlciA9IG5ldyBGaWxlUmVhZGVyKCk7CiAgICAgIHJlYWRlci5vbmxvYWQgPSAoZSkgPT4gewogICAgICAgIHJlc29sdmUoZS50YXJnZXQucmVzdWx0KTsKICAgICAgfTsKICAgICAgcmVhZGVyLnJlYWRBc0FycmF5QnVmZmVyKGZpbGUpOwogICAgfSk7CiAgICAvLyBXYWl0IGZvciB0aGUgZGF0YSB0byBiZSByZWFkeS4KICAgIGxldCBmaWxlRGF0YSA9IHlpZWxkIHsKICAgICAgcHJvbWlzZTogZmlsZURhdGFQcm9taXNlLAogICAgICByZXNwb25zZTogewogICAgICAgIGFjdGlvbjogJ2NvbnRpbnVlJywKICAgICAgfQogICAgfTsKCiAgICAvLyBVc2UgYSBjaHVua2VkIHNlbmRpbmcgdG8gYXZvaWQgbWVzc2FnZSBzaXplIGxpbWl0cy4gU2VlIGIvNjIxMTU2NjAuCiAgICBsZXQgcG9zaXRpb24gPSAwOwogICAgZG8gewogICAgICBjb25zdCBsZW5ndGggPSBNYXRoLm1pbihmaWxlRGF0YS5ieXRlTGVuZ3RoIC0gcG9zaXRpb24sIE1BWF9QQVlMT0FEX1NJWkUpOwogICAgICBjb25zdCBjaHVuayA9IG5ldyBVaW50OEFycmF5KGZpbGVEYXRhLCBwb3NpdGlvbiwgbGVuZ3RoKTsKICAgICAgcG9zaXRpb24gKz0gbGVuZ3RoOwoKICAgICAgY29uc3QgYmFzZTY0ID0gYnRvYShTdHJpbmcuZnJvbUNoYXJDb2RlLmFwcGx5KG51bGwsIGNodW5rKSk7CiAgICAgIHlpZWxkIHsKICAgICAgICByZXNwb25zZTogewogICAgICAgICAgYWN0aW9uOiAnYXBwZW5kJywKICAgICAgICAgIGZpbGU6IGZpbGUubmFtZSwKICAgICAgICAgIGRhdGE6IGJhc2U2NCwKICAgICAgICB9LAogICAgICB9OwoKICAgICAgbGV0IHBlcmNlbnREb25lID0gZmlsZURhdGEuYnl0ZUxlbmd0aCA9PT0gMCA/CiAgICAgICAgICAxMDAgOgogICAgICAgICAgTWF0aC5yb3VuZCgocG9zaXRpb24gLyBmaWxlRGF0YS5ieXRlTGVuZ3RoKSAqIDEwMCk7CiAgICAgIHBlcmNlbnQudGV4dENvbnRlbnQgPSBgJHtwZXJjZW50RG9uZX0lIGRvbmVgOwoKICAgIH0gd2hpbGUgKHBvc2l0aW9uIDwgZmlsZURhdGEuYnl0ZUxlbmd0aCk7CiAgfQoKICAvLyBBbGwgZG9uZS4KICB5aWVsZCB7CiAgICByZXNwb25zZTogewogICAgICBhY3Rpb246ICdjb21wbGV0ZScsCiAgICB9CiAgfTsKfQoKc2NvcGUuZ29vZ2xlID0gc2NvcGUuZ29vZ2xlIHx8IHt9OwpzY29wZS5nb29nbGUuY29sYWIgPSBzY29wZS5nb29nbGUuY29sYWIgfHwge307CnNjb3BlLmdvb2dsZS5jb2xhYi5fZmlsZXMgPSB7CiAgX3VwbG9hZEZpbGVzLAogIF91cGxvYWRGaWxlc0NvbnRpbnVlLAp9Owp9KShzZWxmKTsK",
              "ok": true,
              "headers": [
                [
                  "content-type",
                  "application/javascript"
                ]
              ],
              "status": 200,
              "status_text": ""
            }
          },
          "base_uri": "https://localhost:8080/",
          "height": 91
        }
      },
      "execution_count": null,
      "outputs": [
        {
          "output_type": "display_data",
          "data": {
            "text/plain": [
              "<IPython.core.display.HTML object>"
            ],
            "text/html": [
              "\n",
              "     <input type=\"file\" id=\"files-4a86adba-c044-4957-a30d-996872f2025f\" name=\"files[]\" multiple disabled\n",
              "        style=\"border:none\" />\n",
              "     <output id=\"result-4a86adba-c044-4957-a30d-996872f2025f\">\n",
              "      Upload widget is only available when the cell has been executed in the\n",
              "      current browser session. Please rerun this cell to enable.\n",
              "      </output>\n",
              "      <script src=\"/nbextensions/google.colab/files.js\"></script> "
            ]
          },
          "metadata": {}
        },
        {
          "output_type": "stream",
          "name": "stdout",
          "text": [
            "Saving kaggle.json to kaggle.json\n"
          ]
        },
        {
          "output_type": "execute_result",
          "data": {
            "text/plain": [
              "{'kaggle.json': b'{\"username\":\"giuliahadjiandrea\",\"key\":\"fc0ce37d8f89c0421a66fda0695b7b94\"}'}"
            ]
          },
          "metadata": {},
          "execution_count": 1
        }
      ]
    },
    {
      "cell_type": "code",
      "source": [
        "# move the token file to the ./kaggle directory\n",
        "!pip install -q kaggle\n",
        "!mkdir -p ~/.kaggle\n",
        "!cp kaggle.json ~/.kaggle/\n",
        "!ls ~/.kaggle \n",
        "!chmod 600 /root/.kaggle/kaggle.json"
      ],
      "metadata": {
        "id": "AC3pFrwD4jUI",
        "outputId": "ed8779e0-778f-41e8-b39c-c41fa5060b43",
        "colab": {
          "base_uri": "https://localhost:8080/"
        }
      },
      "execution_count": null,
      "outputs": [
        {
          "output_type": "stream",
          "name": "stdout",
          "text": [
            "kaggle.json\n"
          ]
        }
      ]
    },
    {
      "cell_type": "code",
      "source": [
        "# authenticate to the Kaggle API\n",
        "import kaggle\n",
        "from kaggle.api.kaggle_api_extended import KaggleApi\n",
        "api = KaggleApi()\n",
        "api.authenticate()"
      ],
      "metadata": {
        "id": "ofa9LqPf9nrQ"
      },
      "execution_count": null,
      "outputs": []
    },
    {
      "cell_type": "code",
      "source": [
        "# download and unzip \"Old Newspapers\" dataset\n",
        "\n",
        "!kaggle datasets download -d alvations/old-newspapers"
      ],
      "metadata": {
        "id": "dwtAsLlw93q6",
        "colab": {
          "base_uri": "https://localhost:8080/"
        },
        "outputId": "5cda518c-800d-4536-c3ed-41dc133a5834"
      },
      "execution_count": null,
      "outputs": [
        {
          "output_type": "stream",
          "name": "stdout",
          "text": [
            "Downloading old-newspapers.zip to /content\n",
            "100% 2.04G/2.05G [00:19<00:00, 189MB/s]\n",
            "100% 2.05G/2.05G [00:19<00:00, 115MB/s]\n"
          ]
        }
      ]
    },
    {
      "cell_type": "code",
      "source": [
        "!unzip old-newspapers.zip"
      ],
      "metadata": {
        "id": "R1w4uPFW93xo",
        "colab": {
          "base_uri": "https://localhost:8080/"
        },
        "outputId": "7822e38b-629e-4d0d-9650-692f5641f3a8"
      },
      "execution_count": null,
      "outputs": [
        {
          "output_type": "stream",
          "name": "stdout",
          "text": [
            "Archive:  old-newspapers.zip\n",
            "  inflating: old-newspaper.tsv       \n"
          ]
        }
      ]
    },
    {
      "cell_type": "markdown",
      "source": [
        "### **Initialize a SparkContext object**\n"
      ],
      "metadata": {
        "id": "5ipwOMFDNvlJ"
      }
    },
    {
      "cell_type": "code",
      "source": [
        "# check number of available cores\n",
        "\n",
        "!cat /proc/cpuinfo"
      ],
      "metadata": {
        "id": "X3vuJ02cN5x4",
        "colab": {
          "base_uri": "https://localhost:8080/"
        },
        "outputId": "f1534b2b-4b14-4b9e-c313-879ec3c2e079"
      },
      "execution_count": null,
      "outputs": [
        {
          "output_type": "stream",
          "name": "stdout",
          "text": [
            "processor\t: 0\n",
            "vendor_id\t: GenuineIntel\n",
            "cpu family\t: 6\n",
            "model\t\t: 79\n",
            "model name\t: Intel(R) Xeon(R) CPU @ 2.20GHz\n",
            "stepping\t: 0\n",
            "microcode\t: 0x1\n",
            "cpu MHz\t\t: 2199.998\n",
            "cache size\t: 56320 KB\n",
            "physical id\t: 0\n",
            "siblings\t: 2\n",
            "core id\t\t: 0\n",
            "cpu cores\t: 1\n",
            "apicid\t\t: 0\n",
            "initial apicid\t: 0\n",
            "fpu\t\t: yes\n",
            "fpu_exception\t: yes\n",
            "cpuid level\t: 13\n",
            "wp\t\t: yes\n",
            "flags\t\t: fpu vme de pse tsc msr pae mce cx8 apic sep mtrr pge mca cmov pat pse36 clflush mmx fxsr sse sse2 ss ht syscall nx pdpe1gb rdtscp lm constant_tsc rep_good nopl xtopology nonstop_tsc cpuid tsc_known_freq pni pclmulqdq ssse3 fma cx16 pcid sse4_1 sse4_2 x2apic movbe popcnt aes xsave avx f16c rdrand hypervisor lahf_lm abm 3dnowprefetch invpcid_single ssbd ibrs ibpb stibp fsgsbase tsc_adjust bmi1 hle avx2 smep bmi2 erms invpcid rtm rdseed adx smap xsaveopt arat md_clear arch_capabilities\n",
            "bugs\t\t: cpu_meltdown spectre_v1 spectre_v2 spec_store_bypass l1tf mds swapgs taa\n",
            "bogomips\t: 4399.99\n",
            "clflush size\t: 64\n",
            "cache_alignment\t: 64\n",
            "address sizes\t: 46 bits physical, 48 bits virtual\n",
            "power management:\n",
            "\n",
            "processor\t: 1\n",
            "vendor_id\t: GenuineIntel\n",
            "cpu family\t: 6\n",
            "model\t\t: 79\n",
            "model name\t: Intel(R) Xeon(R) CPU @ 2.20GHz\n",
            "stepping\t: 0\n",
            "microcode\t: 0x1\n",
            "cpu MHz\t\t: 2199.998\n",
            "cache size\t: 56320 KB\n",
            "physical id\t: 0\n",
            "siblings\t: 2\n",
            "core id\t\t: 0\n",
            "cpu cores\t: 1\n",
            "apicid\t\t: 1\n",
            "initial apicid\t: 1\n",
            "fpu\t\t: yes\n",
            "fpu_exception\t: yes\n",
            "cpuid level\t: 13\n",
            "wp\t\t: yes\n",
            "flags\t\t: fpu vme de pse tsc msr pae mce cx8 apic sep mtrr pge mca cmov pat pse36 clflush mmx fxsr sse sse2 ss ht syscall nx pdpe1gb rdtscp lm constant_tsc rep_good nopl xtopology nonstop_tsc cpuid tsc_known_freq pni pclmulqdq ssse3 fma cx16 pcid sse4_1 sse4_2 x2apic movbe popcnt aes xsave avx f16c rdrand hypervisor lahf_lm abm 3dnowprefetch invpcid_single ssbd ibrs ibpb stibp fsgsbase tsc_adjust bmi1 hle avx2 smep bmi2 erms invpcid rtm rdseed adx smap xsaveopt arat md_clear arch_capabilities\n",
            "bugs\t\t: cpu_meltdown spectre_v1 spectre_v2 spec_store_bypass l1tf mds swapgs taa\n",
            "bogomips\t: 4399.99\n",
            "clflush size\t: 64\n",
            "cache_alignment\t: 64\n",
            "address sizes\t: 46 bits physical, 48 bits virtual\n",
            "power management:\n",
            "\n"
          ]
        }
      ]
    },
    {
      "cell_type": "code",
      "source": [
        "# initialize a SparkContext object \n",
        "\n",
        "! pip install pyspark\n",
        "import pyspark\n",
        "sc = pyspark.SparkContext()"
      ],
      "metadata": {
        "id": "mlmIwUMKOWlf",
        "colab": {
          "base_uri": "https://localhost:8080/"
        },
        "outputId": "312d9288-de1b-40d2-d0bd-348d622f2998"
      },
      "execution_count": null,
      "outputs": [
        {
          "output_type": "stream",
          "name": "stdout",
          "text": [
            "Collecting pyspark\n",
            "  Downloading pyspark-3.2.1.tar.gz (281.4 MB)\n",
            "\u001b[K     |████████████████████████████████| 281.4 MB 33 kB/s \n",
            "\u001b[?25hCollecting py4j==0.10.9.3\n",
            "  Downloading py4j-0.10.9.3-py2.py3-none-any.whl (198 kB)\n",
            "\u001b[K     |████████████████████████████████| 198 kB 36.1 MB/s \n",
            "\u001b[?25hBuilding wheels for collected packages: pyspark\n",
            "  Building wheel for pyspark (setup.py) ... \u001b[?25l\u001b[?25hdone\n",
            "  Created wheel for pyspark: filename=pyspark-3.2.1-py2.py3-none-any.whl size=281853642 sha256=d3d7f4ca54375e5b4872f958000852768e0e4bf72e98ce2c90f790e82697ee6c\n",
            "  Stored in directory: /root/.cache/pip/wheels/9f/f5/07/7cd8017084dce4e93e84e92efd1e1d5334db05f2e83bcef74f\n",
            "Successfully built pyspark\n",
            "Installing collected packages: py4j, pyspark\n",
            "Successfully installed py4j-0.10.9.3 pyspark-3.2.1\n"
          ]
        }
      ]
    },
    {
      "cell_type": "code",
      "source": [
        "#install Java8\n",
        "!apt-get install openjdk-8-jdk-headless -qq > /dev/null  \n"
      ],
      "metadata": {
        "id": "xmz8qZG0OkXa"
      },
      "execution_count": null,
      "outputs": []
    },
    {
      "cell_type": "code",
      "source": [
        "# install spark (change the version number if needed)\n",
        "!wget -q https://archive.apache.org/dist/spark/spark-3.0.2/spark-3.0.2-bin-hadoop3.2.tgz\n"
      ],
      "metadata": {
        "id": "0ftynfwZP4h_"
      },
      "execution_count": null,
      "outputs": []
    },
    {
      "cell_type": "code",
      "source": [
        "# unzip the spark file to the current folder\n",
        "!tar xf spark-3.0.2-bin-hadoop3.2.tgz\n",
        "\n",
        "#install findspark\n",
        "!pip install -q findspark"
      ],
      "metadata": {
        "id": "sgRIFOYrRgYM"
      },
      "execution_count": null,
      "outputs": []
    },
    {
      "cell_type": "code",
      "source": [
        "# set your spark folder to your system path environment. \n",
        "import os\n",
        "os.environ[\"JAVA_HOME\"] = \"/usr/lib/jvm/java-8-openjdk-amd64\"\n",
        "os.environ[\"SPARK_HOME\"] = \"/content/spark-3.0.2-bin-hadoop3.2\""
      ],
      "metadata": {
        "id": "5OKU7QCSPPw8"
      },
      "execution_count": null,
      "outputs": []
    },
    {
      "cell_type": "code",
      "source": [
        "import findspark\n",
        "findspark.init(\"spark-3.0.2-bin-hadoop3.2\")  #SPARK_HOME\n",
        "from pyspark.sql import SparkSession\n",
        "spark = SparkSession.builder.master(\"local[*]\").getOrCreate()"
      ],
      "metadata": {
        "id": "wElZAqQdSczB"
      },
      "execution_count": null,
      "outputs": []
    },
    {
      "cell_type": "markdown",
      "source": [
        "**PREPROCESSING**"
      ],
      "metadata": {
        "id": "qMBQmFtUaIwc"
      }
    },
    {
      "cell_type": "markdown",
      "source": [
        "Content\n",
        "The columns of each row in the .tsv file are:\n",
        "\n",
        "Langauge: Language of the text.\n",
        "\n",
        "Source: Newspaper from which the text is from.\n",
        "\n",
        "Date: Date of the article that contains the text.\n",
        "\n",
        "Text: Sentence/paragraph from the newspaper\n"
      ],
      "metadata": {
        "id": "FBh0UUqNgmge"
      }
    },
    {
      "cell_type": "code",
      "source": [
        "#DATASET to DF\n",
        "import pandas\n",
        "df = spark.read.csv(\"/content/old-newspaper.tsv\", sep=r'\\t', header=True)"
      ],
      "metadata": {
        "id": "tjXsenQTaLJV"
      },
      "execution_count": null,
      "outputs": []
    },
    {
      "cell_type": "code",
      "source": [
        "df.head(1)"
      ],
      "metadata": {
        "id": "HjQmDyK6jKy8",
        "colab": {
          "base_uri": "https://localhost:8080/"
        },
        "outputId": "2f641fb9-7c20-4b7f-d36c-7667ebc3f0b8"
      },
      "execution_count": null,
      "outputs": [
        {
          "output_type": "execute_result",
          "data": {
            "text/plain": [
              "[Row(Language='Afrikaans', Source='republikein.com.na', Date='2011/09/14', Text='Die veranderinge aan die Britsgeboude Avensis sluit in hersiene stilering aan die buitekant, wat n voorkantontwerp ingevolge Toyota se nuwe ontwerpstyl insluit.')]"
            ]
          },
          "metadata": {},
          "execution_count": 15
        }
      ]
    },
    {
      "cell_type": "code",
      "source": [
        "english = df[df.Language == 'English']"
      ],
      "metadata": {
        "id": "a-J2qOVUMiDf"
      },
      "execution_count": null,
      "outputs": []
    },
    {
      "cell_type": "code",
      "source": [
        "english.show()"
      ],
      "metadata": {
        "colab": {
          "base_uri": "https://localhost:8080/"
        },
        "id": "iV6iTaZs6Fij",
        "outputId": "cc889dac-6a09-4591-8f76-5cb5c21730c4"
      },
      "execution_count": null,
      "outputs": [
        {
          "output_type": "stream",
          "name": "stdout",
          "text": [
            "+--------+------------------+----------+--------------------+\n",
            "|Language|            Source|      Date|                Text|\n",
            "+--------+------------------+----------+--------------------+\n",
            "| English|       latimes.com|2012/04/29|He wasn't home al...|\n",
            "| English|      stltoday.com|2011/07/10|The St. Louis pla...|\n",
            "| English|         freep.com|2012/05/07|WSU's plans quick...|\n",
            "| English|            nj.com|2011/02/05|The Alaimo Group ...|\n",
            "| English|        sacbee.com|2011/10/02|And when it's oft...|\n",
            "| English|     cleveland.com|2012/04/27|There was a certa...|\n",
            "| English|         freep.com|2012/05/03|14915 Charlevoix,...|\n",
            "| English|            nj.com|2011/02/02|\"\"\"It’s just anot...|\n",
            "| English|chicagotribune.com|2012/01/05|But time and agai...|\n",
            "| English|      indystar.com|2012/05/04|I was just trying...|\n",
            "| English|   startribune.com|2012/04/25|MHTA President an...|\n",
            "| English|           ajc.com|2012/05/04|\"\"\"The absurdity ...|\n",
            "| English|     cleveland.com|2009/05/29|\"GM labor relatio...|\n",
            "| English|           wsj.com|2012/04/30|Here is why Wandr...|\n",
            "| English|    oregonlive.com|2010/04/25|\"\"\"Cheap,\"\" he sa...|\n",
            "| English|      indystar.com|2011/09/06|Andrade's childre...|\n",
            "| English|    oregonlive.com|2010/03/17|\"\"\"Let your hair ...|\n",
            "| English|            nj.com|2012/04/13|Born on April 15,...|\n",
            "| English|       latimes.com|2011/06/17|House Minority Le...|\n",
            "| English|     cleveland.com|2012/02/17|The first is the ...|\n",
            "+--------+------------------+----------+--------------------+\n",
            "only showing top 20 rows\n",
            "\n"
          ]
        }
      ]
    },
    {
      "cell_type": "code",
      "source": [
        "# create an RDD from the \"Old Newspapers\" dataset and display the first instance. \n",
        "#Resilient Distributed Datasets (RDD) is the fundamental data structure of Spark. RDDs are immutable and fault tolerant in nature. \n",
        "#These are distributed collections of objects. The datasets are divided into a logical partition, which is further computed on different nodes over the cluster. \n",
        "#Thus, RDD is just the way of representing dataset distributed across multiple machines, which can be operated around in parallel.\n",
        "# RDDs are called resilient because they have the ability to always re-compute an RDD. \n",
        "\n",
        "newsRDD = sc.textFile(\"old-newspaper.tsv\", 2)\n",
        "newsRDD.take(1)"
      ],
      "metadata": {
        "id": "sRepE5E8h5rb",
        "colab": {
          "base_uri": "https://localhost:8080/"
        },
        "outputId": "ca305486-6efe-4dea-822f-2b7381b99bf2"
      },
      "execution_count": null,
      "outputs": [
        {
          "output_type": "execute_result",
          "data": {
            "text/plain": [
              "['Language\\tSource\\tDate\\tText']"
            ]
          },
          "metadata": {},
          "execution_count": 20
        }
      ]
    },
    {
      "cell_type": "code",
      "source": [
        "def split_row(x):\n",
        "\n",
        "  tup = x.split('''\\t''')\n",
        "  \n",
        "  date = tup[2]\n",
        "  year = date[:4]  \n",
        "\n",
        "  return (tup[0], year, tup[3])"
      ],
      "metadata": {
        "id": "J0AiMbnWgbMv"
      },
      "execution_count": null,
      "outputs": []
    },
    {
      "cell_type": "code",
      "source": [
        "subRDD = newsRDD.map(split_row)\n",
        "subRDD.take(1)"
      ],
      "metadata": {
        "id": "OaOdeyQKgin2",
        "colab": {
          "base_uri": "https://localhost:8080/"
        },
        "outputId": "46bb98ca-ec9b-4d76-a183-b629a21b0ca4"
      },
      "execution_count": null,
      "outputs": [
        {
          "output_type": "execute_result",
          "data": {
            "text/plain": [
              "[('Language', 'Date', 'Text')]"
            ]
          },
          "metadata": {},
          "execution_count": 22
        }
      ]
    },
    {
      "cell_type": "code",
      "source": [
        "# count by years\n",
        "\n",
        "subRDD.map(lambda r: r[1]).countByValue()"
      ],
      "metadata": {
        "id": "OiuX3pRBh_47",
        "colab": {
          "base_uri": "https://localhost:8080/"
        },
        "outputId": "6f9b5e48-1d7f-471d-d2d3-06488faaf815"
      },
      "execution_count": null,
      "outputs": [
        {
          "output_type": "execute_result",
          "data": {
            "text/plain": [
              "defaultdict(int,\n",
              "            {'1970': 6,\n",
              "             '2000': 6075,\n",
              "             '2001': 7811,\n",
              "             '2002': 6183,\n",
              "             '2003': 8452,\n",
              "             '2004': 20091,\n",
              "             '2005': 77733,\n",
              "             '2006': 169678,\n",
              "             '2007': 369179,\n",
              "             '2008': 687741,\n",
              "             '2009': 1494895,\n",
              "             '2010': 3207680,\n",
              "             '2011': 7247763,\n",
              "             '2012': 2812367,\n",
              "             '2013': 380469,\n",
              "             'Date': 1,\n",
              "             'UNKN': 309918})"
            ]
          },
          "metadata": {},
          "execution_count": 24
        }
      ]
    },
    {
      "cell_type": "code",
      "source": [
        "\n",
        "subRDD.map(lambda r: r[0]).countByValue()"
      ],
      "metadata": {
        "colab": {
          "base_uri": "https://localhost:8080/"
        },
        "id": "SnlRGgiLbp8q",
        "outputId": "b3fc3b7d-17b5-47e2-a92f-52ccd24de7f9"
      },
      "execution_count": null,
      "outputs": [
        {
          "output_type": "execute_result",
          "data": {
            "text/plain": [
              "defaultdict(int,\n",
              "            {'Afrikaans': 152312,\n",
              "             'Albanian': 228553,\n",
              "             'Amharic': 32553,\n",
              "             'Arabic': 202461,\n",
              "             'Armenian': 156586,\n",
              "             'Azerbaijan': 140995,\n",
              "             'Bengali': 58998,\n",
              "             'Bosnian': 181370,\n",
              "             'Catalan': 81893,\n",
              "             'Chinese (Simplified)': 682472,\n",
              "             'Chinese (Traditional)': 333735,\n",
              "             'Croatian': 227317,\n",
              "             'Czech': 276881,\n",
              "             'Danish': 887016,\n",
              "             'Dutch': 232176,\n",
              "             'English': 1010242,\n",
              "             'Farsi': 306846,\n",
              "             'Finnish': 485758,\n",
              "             'French': 358001,\n",
              "             'Galician': 227073,\n",
              "             'Georgian': 164614,\n",
              "             'German': 244743,\n",
              "             'Greek': 230405,\n",
              "             'Hebrew': 199047,\n",
              "             'Hindi': 115445,\n",
              "             'Hungarian': 245685,\n",
              "             'Icelandic': 39093,\n",
              "             'Indonesian': 781521,\n",
              "             'Italian': 169630,\n",
              "             'Japanese': 312916,\n",
              "             'Kannada': 175824,\n",
              "             'Kazakh': 77799,\n",
              "             'Khmer': 55674,\n",
              "             'Korean': 667314,\n",
              "             'Language': 1,\n",
              "             'Latvian': 319428,\n",
              "             'Lithuanian': 149453,\n",
              "             'Macedonian': 144853,\n",
              "             'Malay': 356723,\n",
              "             'Malayalam': 40484,\n",
              "             'Mongolian': 108846,\n",
              "             'Nepali': 54877,\n",
              "             'Norwegian (Bokmal)': 554226,\n",
              "             'Polish': 386896,\n",
              "             'Portuguese (Brazil)': 380983,\n",
              "             'Portuguese (EU)': 236644,\n",
              "             'Punjabi': 167898,\n",
              "             'Romanian': 271140,\n",
              "             'Russian': 260047,\n",
              "             'Serbian': 167587,\n",
              "             'Sinhalese': 143970,\n",
              "             'Slovak': 245660,\n",
              "             'Slovenian': 89104,\n",
              "             'Spanish': 309918,\n",
              "             'Spanish (South America)': 389620,\n",
              "             'Swahili': 228011,\n",
              "             'Swedish': 342884,\n",
              "             'Tagalog': 136199,\n",
              "             'Tamil': 78440,\n",
              "             'Telugu': 71084,\n",
              "             'Thai': 190078,\n",
              "             'Turkish': 360363,\n",
              "             'Ukranian': 306617,\n",
              "             'Urdu': 74878,\n",
              "             'Uzbek': 148161,\n",
              "             'Vietnamese': 284419,\n",
              "             'Welsh': 63602})"
            ]
          },
          "metadata": {},
          "execution_count": 25
        }
      ]
    },
    {
      "cell_type": "code",
      "source": [
        "# look directly at those with year = 'Date' or year = '1970'\n",
        "\n",
        "subRDD.filter(lambda r: r[1]=='Date' or r[1]=='1970').collect()"
      ],
      "metadata": {
        "id": "m7i5wcfxiVNp",
        "colab": {
          "base_uri": "https://localhost:8080/"
        },
        "outputId": "213cb02c-851e-413f-fe38-00ef702e53ea"
      },
      "execution_count": null,
      "outputs": [
        {
          "output_type": "execute_result",
          "data": {
            "text/plain": [
              "[('Language', 'Date', 'Text'),\n",
              " ('French',\n",
              "  '1970',\n",
              "  \"Habitué depuis deux ans à faire venir des attaquants au mercato hivernal (Quercia en 2008 et Birsa en 2009), Jean Fernandez justifie les arrivées de Jo-Gook et Fall comme des choix « d'avenir ». Et éclaire sur la capacité de ces joueurs à réussir à court terme. « L'expérience me fait dire qu'il y a plus d'échecs que de réussite au mercato d'hiver. Lorsque j'étais à Marseille, Maoulida et Pagis avaient été de bonnes recrues ».\"),\n",
              " ('French',\n",
              "  '1970',\n",
              "  \"Deux joueurs qui n'ont rien coûté, ou presque, à l'AJA fidèle à sa stratégie de recruter malin. Jo-Gook, auteur d'une apparition en Coupe de France et une en Ligue 1, a confirmé que « le Patriot », comme il est surnommé en Corée du Sud, aura besoin de quelques mois d'adaptation.\"),\n",
              " ('French',\n",
              "  '1970',\n",
              "  \"Ce que l'on sait, d'ores-et-déjà, c'est que Jelen (en fin de contrat en juin) a peu de chances d'en faire partie. La tendance de l'hiver ne sera peut-être pas celle de l'été, certes. Mais il y a quelques jours, Jean Fernandez s'était montré plutôt catégorique : « Jelen partira en fin de saison ».\"),\n",
              " ('French',\n",
              "  '1970',\n",
              "  \"Compte tenu de l'incertitude qui pèse sur l'avenir en fin de saison de beaucoup d'éléments clé de l'effectif, à commencer par celui de Jean Fernandez, il apparaît très prématuré d'envisager dès maintenant l'AJA version 2011/2012.\"),\n",
              " ('French',\n",
              "  '1970',\n",
              "  'La paire avait inscrit 12 buts en quatre mois. La marche semble haute pour les néo-Auxerrois. Comme pour Jelen.'),\n",
              " ('French', '1970', 'Les promesses de Fall')]"
            ]
          },
          "metadata": {},
          "execution_count": 27
        }
      ]
    },
    {
      "cell_type": "code",
      "source": [
        "# look at the language in which the ones with unknown date were written\n",
        "\n",
        "subRDD.filter(lambda r: r[1]=='UNKN').map(lambda r: r[0]).countByValue()  # all in Spanish"
      ],
      "metadata": {
        "id": "wac-BpEjkh3x",
        "colab": {
          "base_uri": "https://localhost:8080/"
        },
        "outputId": "533e64fe-3065-43d6-ca71-471df35d26bc"
      },
      "execution_count": null,
      "outputs": [
        {
          "output_type": "execute_result",
          "data": {
            "text/plain": [
              "defaultdict(int, {'Spanish': 309918})"
            ]
          },
          "metadata": {},
          "execution_count": 28
        }
      ]
    },
    {
      "cell_type": "code",
      "source": [
        "textFrench = subRDD.filter(lambda x: x[0]=='French').map(lambda r: r[0]).countByValue()"
      ],
      "metadata": {
        "id": "oQIXlZHzkiDz"
      },
      "execution_count": null,
      "outputs": []
    },
    {
      "cell_type": "code",
      "source": [
        "textFrench"
      ],
      "metadata": {
        "colab": {
          "base_uri": "https://localhost:8080/"
        },
        "id": "HiWyvFAMg54g",
        "outputId": "cf3f69e2-9455-4914-fc5b-e1ad064389c0"
      },
      "execution_count": null,
      "outputs": [
        {
          "output_type": "execute_result",
          "data": {
            "text/plain": [
              "defaultdict(int, {'French': 358001})"
            ]
          },
          "metadata": {},
          "execution_count": 31
        }
      ]
    },
    {
      "cell_type": "code",
      "source": [
        "textRDD_Eng = subRDD.filter(lambda x: x[0]=='English')\n",
        "textRDD_Eng.take(5)"
      ],
      "metadata": {
        "id": "D61y2TENkiJ1",
        "colab": {
          "base_uri": "https://localhost:8080/"
        },
        "outputId": "1ba2a1c7-9060-4301-bc8b-babe5952157b"
      },
      "execution_count": null,
      "outputs": [
        {
          "output_type": "execute_result",
          "data": {
            "text/plain": [
              "[('English', '2012', \"He wasn't home alone, apparently.\"),\n",
              " ('English',\n",
              "  '2011',\n",
              "  'The St. Louis plant had to close. It would die of old age. Workers had been making cars there since the onset of mass automotive production in the 1920s.'),\n",
              " ('English',\n",
              "  '2012',\n",
              "  \"WSU's plans quickly became a hot topic on local online sites. Though most people applauded plans for the new biomedical center, many deplored the potential loss of the building.\"),\n",
              " ('English',\n",
              "  '2011',\n",
              "  'The Alaimo Group of Mount Holly was up for a contract last fall to evaluate and suggest improvements to Trenton Water Works. But campaign finance records released this week show the two employees donated a total of $4,500 to the political action committee (PAC) Partners for Progress in early June. Partners for Progress reported it gave more than $10,000 in both direct and in-kind contributions to Mayor Tony Mack in the two weeks leading up to his victory in the mayoral runoff election June 15.'),\n",
              " ('English',\n",
              "  '2011',\n",
              "  \"And when it's often difficult to predict a law's impact, legislators should think twice before carrying any bill. Is it absolutely necessary? Is it an issue serious enough to merit their attention? Will it definitely not make the situation worse?\")]"
            ]
          },
          "metadata": {},
          "execution_count": 32
        }
      ]
    },
    {
      "cell_type": "code",
      "source": [
        "textRDD_Eng = textRDD_Eng.sample(withReplacement = False, fraction = 0.1, seed = 1995).repartition(2)"
      ],
      "metadata": {
        "id": "akhNUklWhcKY"
      },
      "execution_count": null,
      "outputs": []
    },
    {
      "cell_type": "code",
      "source": [
        "import nltk\n",
        "nltk.download('punkt')\n",
        "nltk.download('stopwords')\n",
        "nltk.download('wordnet')\n",
        "\n",
        "import re\n",
        "\n",
        "from nltk.corpus import stopwords\n",
        "\n",
        "from numpy import unique\n",
        "from string import punctuation\n",
        "\n",
        "def preprocess(row):\n",
        "\n",
        "  ### ARGS\n",
        "  # row = (language, date, text)\n",
        "\n",
        "  ### OUTPUT\n",
        "  # list of lemmatized tokens in the text field\n",
        "\n",
        "  ### REQUIRES\n",
        "  # libraries: nltk, re, numpy.unique, string.punctuation\n",
        "  # modules (nltk): stopwords, punkt, wordnet \n",
        "\n",
        "  if row[0] == 'English':\n",
        "    sw = stopwords.words(\"english\") + list(punctuation) + [\"n't\", \"'m\", \"'d\", \"'re\", \"'s\",\"'ve\", \"'ll\", '``', \"''\", \"--\", '“', '’','”','...',\"«\", \"»\", \"–\"]\n",
        "\n",
        "  text = re.sub(r'[^a-zA-z0-9.,!?/:;\\\"\\'\\s]', '', row[2])\n",
        "\n",
        "  lemmatizer = nltk.WordNetLemmatizer()\n",
        "  tokenized_text = nltk.word_tokenize(text.lower())\n",
        "  tokenized_text = list(unique(tokenized_text))\n",
        "\n",
        "  return [lemmatizer.lemmatize(w) for w in tokenized_text if w not in sw]"
      ],
      "metadata": {
        "colab": {
          "base_uri": "https://localhost:8080/"
        },
        "id": "-Bl_7u-7hcdM",
        "outputId": "7aa7a77a-bd22-4eec-fd78-88062b405612"
      },
      "execution_count": null,
      "outputs": [
        {
          "output_type": "stream",
          "name": "stdout",
          "text": [
            "[nltk_data] Downloading package punkt to /root/nltk_data...\n",
            "[nltk_data]   Package punkt is already up-to-date!\n",
            "[nltk_data] Downloading package stopwords to /root/nltk_data...\n",
            "[nltk_data]   Package stopwords is already up-to-date!\n",
            "[nltk_data] Downloading package wordnet to /root/nltk_data...\n",
            "[nltk_data]   Package wordnet is already up-to-date!\n"
          ]
        }
      ]
    },
    {
      "cell_type": "code",
      "source": [
        "text_tokenized = textRDD_Eng.map(preprocess)\n",
        "text_tokenized.take(5)"
      ],
      "metadata": {
        "colab": {
          "base_uri": "https://localhost:8080/"
        },
        "id": "MUVL03CeimGD",
        "outputId": "91606c3b-5622-4e42-e3a3-87190f350967"
      },
      "execution_count": null,
      "outputs": [
        {
          "output_type": "execute_result",
          "data": {
            "text/plain": [
              "[['charged',\n",
              "  'controlled',\n",
              "  'dangerous',\n",
              "  'gattone',\n",
              "  'paraphernalia',\n",
              "  'possession',\n",
              "  'substance'],\n",
              " ['13',\n",
              "  '14',\n",
              "  '18th',\n",
              "  '21',\n",
              "  '23',\n",
              "  '26th',\n",
              "  'alex',\n",
              "  'among',\n",
              "  'barret',\n",
              "  'behind',\n",
              "  'blue',\n",
              "  'come',\n",
              "  'credit',\n",
              "  'defense',\n",
              "  'defensemen',\n",
              "  'deserves',\n",
              "  'enough',\n",
              "  'gaudy',\n",
              "  'goalie',\n",
              "  'good',\n",
              "  'jackman',\n",
              "  'kevin',\n",
              "  'league',\n",
              "  'much',\n",
              "  'net',\n",
              "  'outstanding',\n",
              "  'petro',\n",
              "  'pietrangelo',\n",
              "  'played',\n",
              "  'plus17',\n",
              "  'point',\n",
              "  'produce',\n",
              "  'protect',\n",
              "  'rank',\n",
              "  'rank',\n",
              "  'right',\n",
              "  'season',\n",
              "  'shattenkirk',\n",
              "  'shatty',\n",
              "  'stats',\n",
              "  'three',\n",
              "  'top'],\n",
              " ['15',\n",
              "  '26yearold',\n",
              "  '9to5',\n",
              "  'admittedly',\n",
              "  'athletic',\n",
              "  'basketball',\n",
              "  'basketball',\n",
              "  'beckoned',\n",
              "  'behind',\n",
              "  'bob',\n",
              "  'bowie',\n",
              "  'business',\n",
              "  'coach',\n",
              "  'collegeage',\n",
              "  'comedian',\n",
              "  'continued',\n",
              "  'court',\n",
              "  'daughter',\n",
              "  'day',\n",
              "  'director',\n",
              "  'existence',\n",
              "  'experience',\n",
              "  'filed',\n",
              "  'general',\n",
              "  'glistening',\n",
              "  'guard/standup',\n",
              "  'halfdozen',\n",
              "  'hardwood',\n",
              "  'help',\n",
              "  'hoop',\n",
              "  'hosley',\n",
              "  'john',\n",
              "  'looked',\n",
              "  'man',\n",
              "  'manager',\n",
              "  'middleschool',\n",
              "  'mile',\n",
              "  'much',\n",
              "  'onto',\n",
              "  'player',\n",
              "  'road',\n",
              "  'rolled',\n",
              "  'sideline',\n",
              "  'spent',\n",
              "  'terry',\n",
              "  'topp',\n",
              "  'trickle',\n",
              "  'underneath',\n",
              "  'wear',\n",
              "  'wearing',\n",
              "  'wolfe',\n",
              "  'working'],\n",
              " ['2512', '2519', 'creek', 'def', 'mountain', 'silver', 'view'],\n",
              " ['medium', 'portland', 'relation', 'timber']]"
            ]
          },
          "metadata": {},
          "execution_count": 39
        }
      ]
    },
    {
      "cell_type": "code",
      "source": [
        "textRDD_Eng.take(5), text_tokenized.take(5)"
      ],
      "metadata": {
        "colab": {
          "base_uri": "https://localhost:8080/"
        },
        "id": "S50swZKlimUZ",
        "outputId": "5765cbb3-b9f1-4027-d257-9f7f314587fc"
      },
      "execution_count": null,
      "outputs": [
        {
          "output_type": "execute_result",
          "data": {
            "text/plain": [
              "([('English',\n",
              "   '2010',\n",
              "   'Gattone was charged with possession of a controlled dangerous substance and possession of paraphernalia.'),\n",
              "  ('English',\n",
              "   '2012',\n",
              "   \"Then comes the defense, which has played outstanding all season and deserves much credit for those gaudy goalie stats. And not only do they protect the net, they produce. Kevin Shattenkirk's 23 points ranks 18th in the league among defensemen and Alex Pietrangelo comes in right behind him with 21 points, good enough for 26th among defensemen. And with Shatty (plus-17), Petro (+14) and Barret Jackman (+13), the Blues have three defensemen who rank in the top\"),\n",
              "  ('English',\n",
              "   '2012',\n",
              "   'The glistening court beckoned. As Bowie filed onto the hardwood behind 26-year-old guard/stand-up comedian Terry Hosley, general manager John Wolfe — a man with admittedly no basketball experience — looked on from the sideline. Coach Bob Topp, who spent much of the day working 15 miles down the road as a middle-school athletic director, rolled a half-dozen basketballs underneath the hoop with the help of his college-age daughter. Players continued to trickle in, some wearing the business wear of their 9-to-5 existences.'),\n",
              "  ('English', '2011', 'Silver Creek def. Mountain View 25-19, 25-12, 25-19'),\n",
              "  ('English', '2008', '-- Portland Timbers Media Relations')],\n",
              " [['charged',\n",
              "   'controlled',\n",
              "   'dangerous',\n",
              "   'gattone',\n",
              "   'paraphernalia',\n",
              "   'possession',\n",
              "   'substance'],\n",
              "  ['13',\n",
              "   '14',\n",
              "   '18th',\n",
              "   '21',\n",
              "   '23',\n",
              "   '26th',\n",
              "   'alex',\n",
              "   'among',\n",
              "   'barret',\n",
              "   'behind',\n",
              "   'blue',\n",
              "   'come',\n",
              "   'credit',\n",
              "   'defense',\n",
              "   'defensemen',\n",
              "   'deserves',\n",
              "   'enough',\n",
              "   'gaudy',\n",
              "   'goalie',\n",
              "   'good',\n",
              "   'jackman',\n",
              "   'kevin',\n",
              "   'league',\n",
              "   'much',\n",
              "   'net',\n",
              "   'outstanding',\n",
              "   'petro',\n",
              "   'pietrangelo',\n",
              "   'played',\n",
              "   'plus17',\n",
              "   'point',\n",
              "   'produce',\n",
              "   'protect',\n",
              "   'rank',\n",
              "   'rank',\n",
              "   'right',\n",
              "   'season',\n",
              "   'shattenkirk',\n",
              "   'shatty',\n",
              "   'stats',\n",
              "   'three',\n",
              "   'top'],\n",
              "  ['15',\n",
              "   '26yearold',\n",
              "   '9to5',\n",
              "   'admittedly',\n",
              "   'athletic',\n",
              "   'basketball',\n",
              "   'basketball',\n",
              "   'beckoned',\n",
              "   'behind',\n",
              "   'bob',\n",
              "   'bowie',\n",
              "   'business',\n",
              "   'coach',\n",
              "   'collegeage',\n",
              "   'comedian',\n",
              "   'continued',\n",
              "   'court',\n",
              "   'daughter',\n",
              "   'day',\n",
              "   'director',\n",
              "   'existence',\n",
              "   'experience',\n",
              "   'filed',\n",
              "   'general',\n",
              "   'glistening',\n",
              "   'guard/standup',\n",
              "   'halfdozen',\n",
              "   'hardwood',\n",
              "   'help',\n",
              "   'hoop',\n",
              "   'hosley',\n",
              "   'john',\n",
              "   'looked',\n",
              "   'man',\n",
              "   'manager',\n",
              "   'middleschool',\n",
              "   'mile',\n",
              "   'much',\n",
              "   'onto',\n",
              "   'player',\n",
              "   'road',\n",
              "   'rolled',\n",
              "   'sideline',\n",
              "   'spent',\n",
              "   'terry',\n",
              "   'topp',\n",
              "   'trickle',\n",
              "   'underneath',\n",
              "   'wear',\n",
              "   'wearing',\n",
              "   'wolfe',\n",
              "   'working'],\n",
              "  ['2512', '2519', 'creek', 'def', 'mountain', 'silver', 'view'],\n",
              "  ['medium', 'portland', 'relation', 'timber']])"
            ]
          },
          "metadata": {},
          "execution_count": 40
        }
      ]
    },
    {
      "cell_type": "code",
      "source": [
        "import seaborn as sns\n",
        "import matplotlib.pyplot as plt\n",
        "lengths = text_tokenized.map(len) \\\n",
        "                       .collect()\n",
        "\n",
        "f, ax = plt.subplots(figsize = (12,8))\n",
        "sns.histplot(data = lengths, binwidth = 2, ax = ax)\n",
        "ax.set_xlabel(\"Number of words per document\")\n",
        "f.suptitle(\"Histogram of bag-of-words lengths\")\n",
        "plt.xlim([0, 120])"
      ],
      "metadata": {
        "colab": {
          "base_uri": "https://localhost:8080/",
          "height": 571
        },
        "id": "usaxCsgBimZN",
        "outputId": "71fa4d32-9e5d-45aa-fbf0-31f49f411cc9"
      },
      "execution_count": null,
      "outputs": [
        {
          "output_type": "execute_result",
          "data": {
            "text/plain": [
              "(0.0, 120.0)"
            ]
          },
          "metadata": {},
          "execution_count": 41
        },
        {
          "output_type": "display_data",
          "data": {
            "text/plain": [
              "<Figure size 864x576 with 1 Axes>"
            ],
            "image/png": "[encoded data removed]"
          },
          "metadata": {
            "needs_background": "light"
          }
        }
      ]
    },
    {
      "cell_type": "code",
      "source": [
        "text_tokenized.map(len).countByValue()"
      ],
      "metadata": {
        "id": "B1PGpD8Kimc3"
      },
      "execution_count": null,
      "outputs": []
    },
    {
      "cell_type": "markdown",
      "source": [
        "## **A-Priori Algorithm**"
      ],
      "metadata": {
        "id": "2w3Gaj2qy4oc"
      }
    },
    {
      "cell_type": "code",
      "source": [
        "# SINGLETONS\n",
        "# define function to iteratively sum counters of equal words\n",
        "\n",
        "def sumcum(x,y):\n",
        "  return x+y"
      ],
      "metadata": {
        "id": "UVmcPUtJy101"
      },
      "execution_count": null,
      "outputs": []
    },
    {
      "cell_type": "code",
      "source": [
        "import itertools"
      ],
      "metadata": {
        "id": "3CC2CvnHy2BV"
      },
      "execution_count": null,
      "outputs": []
    },
    {
      "cell_type": "code",
      "source": [
        "threshold = 0.01"
      ],
      "metadata": {
        "id": "SDRr4JeWz7I9"
      },
      "execution_count": null,
      "outputs": []
    },
    {
      "cell_type": "code",
      "source": [
        "#eng counters\n",
        "\n",
        "freq_items = text_tokenized.flatMap(lambda bow: [(word, 1) for word in bow]) \\\n",
        "                                 .reduceByKey(sumcum) \\\n",
        "                                 .filter(lambda t: t[1] >= threshold*N) \\\n",
        "                                 .collect()"
      ],
      "metadata": {
        "id": "H8kCR7wc0BfP"
      },
      "execution_count": null,
      "outputs": []
    },
    {
      "cell_type": "code",
      "source": [
        "#eng singletons\n",
        "freq_singletons = list(map(lambda x: x[0], freq_items))"
      ],
      "metadata": {
        "id": "N6FQJKq50ERM"
      },
      "execution_count": null,
      "outputs": []
    },
    {
      "cell_type": "code",
      "source": [
        "counters_1perc = []\n",
        "counters_1perc.append(len(freq_singletons))"
      ],
      "metadata": {
        "id": "-m8J9IX90E6m"
      },
      "execution_count": null,
      "outputs": []
    },
    {
      "cell_type": "code",
      "source": [
        "candidates = list(itertools.combinations(freq_singletons, 2))\n",
        "candidates = list(map(set, candidates))"
      ],
      "metadata": {
        "id": "eG90fO5Q0IkH"
      },
      "execution_count": null,
      "outputs": []
    },
    {
      "cell_type": "code",
      "source": [
        "### FIND CANDIDATE ITEMSETS IN THE ROWS OF RDD: PLAN A\n",
        "\n",
        "def candidate_combinations(bow, candidates):\n",
        "\n",
        "  return [(tuple(c), 1) for c in candidates if c.issubset(set(bow))]"
      ],
      "metadata": {
        "id": "DtY_1Gw30KzJ"
      },
      "execution_count": null,
      "outputs": []
    },
    {
      "cell_type": "code",
      "source": [
        "### FIND CANDIDATE ITEMSETS IN THE ROWS OF RDD: PLAN B\n",
        "\n",
        "from numpy import searchsorted\n",
        "\n",
        "def find_in_bow(candidates, bow):\n",
        "\n",
        "  output = []\n",
        "\n",
        "  for itemset in candidates:\n",
        "    for item in itemset:\n",
        "      x = searchsorted(bow, item)\n",
        "      if (x >= len(bow) or bow[x] != item):\n",
        "        break\n",
        "    else:\n",
        "      output.append((itemset, 1))\n",
        "\n",
        "  return output"
      ],
      "metadata": {
        "id": "nRHFOGSk0LdY"
      },
      "execution_count": null,
      "outputs": []
    },
    {
      "cell_type": "code",
      "source": [
        "### FIND CANDIDATE ITEMSETS IN THE ROWS OF RDD: PLAN C\n",
        "\n",
        "# requires candidates to be all of equal length\n",
        "\n",
        "def candidates_with_itertools(bow, candidates):\n",
        "\n",
        "  K = len(candidates[0])\n",
        "\n",
        "  combos = list(itertools.combinations(bow, K))\n",
        "\n",
        "  combos = list(filter(lambda c: set(c) in candidates, combos))\n",
        "\n",
        "  combos = list(map(lambda c: (c,1), combos))\n",
        "\n",
        "  return combos"
      ],
      "metadata": {
        "id": "TP9AeG1J0N1n"
      },
      "execution_count": null,
      "outputs": []
    },
    {
      "cell_type": "code",
      "source": [
        "# testing which function is the fastest\n",
        "\n",
        "from time import time\n",
        "\n",
        "testbows = text_tokenized.takeSample(withReplacement = False, num = 100, seed = 1262)\n",
        "\n",
        "start = time()\n",
        "[candidate_combinations(bow, candidates) for bow in testbows]\n",
        "time_cc = time() - start\n",
        "\n",
        "start = time()\n",
        "[find_in_bow(candidates, bow) for bow in testbows]\n",
        "time_fib = time() - start\n",
        "\n",
        "start = time()\n",
        "[candidates_with_itertools(bow, candidates) for bow in testbows]\n",
        "time_cwi = time() - start\n",
        "\n",
        "time_cc, time_fib, time_cwi       "
      ],
      "metadata": {
        "id": "3SAR21zU0Qqh"
      },
      "execution_count": null,
      "outputs": []
    },
    {
      "cell_type": "code",
      "source": [
        "#eng frequent pairs - it takes 35min for running\n",
        "new_freq_itemsets = text_tokenized.flatMap(lambda bow: candidate_combinations(bow, candidates)) \\\n",
        "                       .reduceByKey(sumcum) \\\n",
        "                       .filter(lambda t: t[1] >= threshold*N) \\\n",
        "                       .collect()"
      ],
      "metadata": {
        "id": "4A0FZsls0Uyn"
      },
      "execution_count": null,
      "outputs": []
    },
    {
      "cell_type": "code",
      "source": [
        "#eng pairs with counters\n",
        "old_freq_itemsets = list(map(lambda x: x[0], new_freq_itemsets))"
      ],
      "metadata": {
        "id": "fFVZpGTl0XGN"
      },
      "execution_count": null,
      "outputs": []
    },
    {
      "cell_type": "code",
      "source": [
        "#length frequent eng pairs\n",
        "counters_1perc.append(len(old_freq_itemsets))"
      ],
      "metadata": {
        "id": "Alr5MVNm0ZTC"
      },
      "execution_count": null,
      "outputs": []
    },
    {
      "cell_type": "code",
      "source": [
        "### FIND CANDIDATE ITEMSETS OF CARDINALITY K GIVEN FREQUENT ITEMSETS OF CARDINALITY K-1, FOR K > 2\n",
        "# we don't need all combinations of elements of frequent itemsets,\n",
        "# but itemsets whose immediate subsets are ALL frequent\n",
        "# the next function is to be used for K > 2, whereas for K = 2 we may simply use itertools.combinations()\n",
        "\n",
        "def find_candidate_itemsets(old_freq_itemsets, K):\n",
        "\n",
        "  ### ARGS\n",
        "  # old_freq_itemsets --> list of itemsets that were found to be frequent in previous pass\n",
        "  # K --> cardinality of new candidate itemsets\n",
        "\n",
        "  ### OUTPUT\n",
        "  # list of candidate itemsets, as sets\n",
        "\n",
        "  ### REQUIRES\n",
        "  # libraries: itertools\n",
        "\n",
        "  candidates = []\n",
        "\n",
        "  for comb in list(itertools.combinations(old_freq_itemsets, K)):               # for each combination of K itemsets, e.g. [('a','b'),('c','a'),('b','c')]\n",
        "    cand = set().union(*comb)                                                   # define the union set, e.g. {'a','b','c'}\n",
        "    if len(cand) == K:\n",
        "      candidates.append(cand)                                                   # and let the union be a candidate itemset if its cardinality is K\n",
        "\n",
        "  return candidates                                                             # returns list of sets"
      ],
      "metadata": {
        "id": "NbKGHfTh0cPi"
      },
      "execution_count": null,
      "outputs": []
    },
    {
      "cell_type": "code",
      "source": [
        "candidates = find_candidate_itemsets(old_freq_itemsets, K = 3)\n",
        "new_freq_itemsets3 = text_tokenized.flatMap(lambda bow: candidate_combinations(bow, candidates)) \\\n",
        "                       .reduceByKey(sumcum) \\\n",
        "                       .filter(lambda t: t[1] >= threshold*N) \\\n",
        "                       .collect()"
      ],
      "metadata": {
        "id": "2tO1wQHA0c47"
      },
      "execution_count": null,
      "outputs": []
    },
    {
      "cell_type": "code",
      "source": [
        "len(new_freq_itemsets3)"
      ],
      "metadata": {
        "id": "q1Ut_rze0e7f"
      },
      "execution_count": null,
      "outputs": []
    },
    {
      "cell_type": "code",
      "source": [
        "counters_1perc"
      ],
      "metadata": {
        "id": "x_DanvSm0iQ6"
      },
      "execution_count": null,
      "outputs": []
    },
    {
      "cell_type": "markdown",
      "source": [
        "**Threshold = 0.2**"
      ],
      "metadata": {
        "id": "3kkunvNa0oR0"
      }
    },
    {
      "cell_type": "code",
      "source": [
        "threshold = 0.02"
      ],
      "metadata": {
        "id": "hZ1W5RPH0i63"
      },
      "execution_count": null,
      "outputs": []
    },
    {
      "cell_type": "code",
      "source": [
        "# sum all counters to obtain singleton counts\n",
        "\n",
        "freq_items = text_tokenized.flatMap(lambda bow: [(word, 1) for word in bow]) \\\n",
        "                                 .reduceByKey(sumcum) \\\n",
        "                                 .filter(lambda t: t[1] >= threshold*N) \\\n",
        "                                 .collect()"
      ],
      "metadata": {
        "id": "GNBz3tuq0vzn"
      },
      "execution_count": null,
      "outputs": []
    },
    {
      "cell_type": "code",
      "source": [
        "# filters the counters exceeding the threshold\n",
        "\n",
        "freq_singletons = list(map(lambda x: x[0], freq_items))"
      ],
      "metadata": {
        "id": "Tu1LXbtE00FS"
      },
      "execution_count": null,
      "outputs": []
    },
    {
      "cell_type": "code",
      "source": [
        "#computing the length of frequent singletons in english\n",
        "\n",
        "counters_2perc = []\n",
        "\n",
        "counters_2perc.append(len(freq_singletons))"
      ],
      "metadata": {
        "id": "DivZjUBA00st"
      },
      "execution_count": null,
      "outputs": []
    },
    {
      "cell_type": "markdown",
      "source": [
        "Which are the frequent singletons, weighted by their frequency?"
      ],
      "metadata": {
        "id": "5MDevKKl06eM"
      }
    },
    {
      "cell_type": "code",
      "source": [
        "#importing the libraries for depicting the wordcloud\n",
        "\n",
        "import seaborn as sns\n",
        "import matplotlib.pyplot as plt\n",
        "from wordcloud import WordCloud"
      ],
      "metadata": {
        "id": "dfpfJPQa02gG"
      },
      "execution_count": null,
      "outputs": []
    },
    {
      "cell_type": "code",
      "source": [
        "#defining a function for converting lists into strings\n",
        "\n",
        "def convert_list_to_string(org_list, seperator=' '):\n",
        "    \"\"\" Convert list to string, by joining all item in list with given separator.\n",
        "        Returns the concatenated string \"\"\"\n",
        "    return seperator.join(org_list)"
      ],
      "metadata": {
        "id": "jJh_hR3F_Ufq"
      },
      "execution_count": null,
      "outputs": []
    },
    {
      "cell_type": "code",
      "source": [
        "#converting the list of freq_singletons in strings\n",
        "\n",
        "string = convert_list_to_string(freq_singletons)"
      ],
      "metadata": {
        "id": "Ztvf6sLI_XzE"
      },
      "execution_count": null,
      "outputs": []
    },
    {
      "cell_type": "code",
      "source": [
        "#defining the worldcloud\n",
        "\n",
        "wordcloud = WordCloud(background_color = \"white\").generate(string)\n",
        "\n",
        "# displaying the wordcloud\n",
        "\n",
        "plt.figure(figsize = (14, 10))\n",
        "plt.imshow(wordcloud)\n",
        "plt.axis(\"off\")\n",
        "plt.show();\n",
        "\n",
        "# it might be different each time due to sampling"
      ],
      "metadata": {
        "id": "bNbECicG_acu"
      },
      "execution_count": null,
      "outputs": []
    },
    {
      "cell_type": "markdown",
      "source": [
        "Now we turn to itemsets of cardinality > 1"
      ],
      "metadata": {
        "id": "98syBpR0_ewH"
      }
    },
    {
      "cell_type": "code",
      "source": [
        "candidates = list(itertools.combinations(freq_singletons, 2))\n",
        "candidates = list(map(set, candidates))"
      ],
      "metadata": {
        "id": "NRKZIItd_k4P"
      },
      "execution_count": null,
      "outputs": []
    },
    {
      "cell_type": "code",
      "source": [
        "# use candidate_combinations to count occurrences of candidates in the RDD -35 minutes to run\n",
        "\n",
        "new_freq_itemsets = text_tokenized.flatMap(lambda bow: candidate_combinations(bow, candidates)) \\\n",
        "                       .reduceByKey(sumcum) \\\n",
        "                       .filter(lambda t: t[1] >= threshold*N) \\\n",
        "                       .collect()"
      ],
      "metadata": {
        "id": "9iqRTcGW_mGC"
      },
      "execution_count": null,
      "outputs": []
    },
    {
      "cell_type": "code",
      "source": [
        "# check the lenghts of the list containing the frequent pairs\n",
        "\n",
        "counters_2perc.append(len(new_freq_itemsets))                                   # needless to go futher, since also for threshold = 1% there were no triplets"
      ],
      "metadata": {
        "id": "gJmpRgRW_qJQ"
      },
      "execution_count": null,
      "outputs": []
    },
    {
      "cell_type": "code",
      "source": [
        "counters_2perc"
      ],
      "metadata": {
        "id": "dikR8sdt_smu"
      },
      "execution_count": null,
      "outputs": []
    },
    {
      "cell_type": "markdown",
      "source": [
        "**Threshold = 0.03**"
      ],
      "metadata": {
        "id": "3_ZM1lX1_ws4"
      }
    },
    {
      "cell_type": "code",
      "source": [
        "threshold = 0.03"
      ],
      "metadata": {
        "id": "G9zlHh3U_ukM"
      },
      "execution_count": null,
      "outputs": []
    },
    {
      "cell_type": "code",
      "source": [
        "freq_items = text_tokenized.flatMap(lambda bow: [(word, 1) for word in bow]) \\\n",
        "                                 .reduceByKey(sumcum) \\\n",
        "                                 .filter(lambda t: t[1] >= threshold*N) \\\n",
        "                                 .collect()"
      ],
      "metadata": {
        "id": "ce6iChBS_03o"
      },
      "execution_count": null,
      "outputs": []
    },
    {
      "cell_type": "code",
      "source": [
        "freq_singletons = list(map(lambda x: x[0], freq_items))"
      ],
      "metadata": {
        "id": "2M7sxSXN_5ml"
      },
      "execution_count": null,
      "outputs": []
    },
    {
      "cell_type": "code",
      "source": [
        "counters_3perc = []\n",
        "\n",
        "counters_3perc.append(len(freq_singletons))"
      ],
      "metadata": {
        "id": "F4M47HoH_7ru"
      },
      "execution_count": null,
      "outputs": []
    },
    {
      "cell_type": "code",
      "source": [
        "new_freq_itemsets = text_tokenized.flatMap(lambda bow: candidate_combinations(bow, candidates)) \\\n",
        "                       .reduceByKey(sumcum) \\\n",
        "                       .filter(lambda t: t[1] >= threshold*N) \\\n",
        "                       .collect()"
      ],
      "metadata": {
        "id": "I453FhWy_-aC"
      },
      "execution_count": null,
      "outputs": []
    },
    {
      "cell_type": "code",
      "source": [
        "old_freq_itemsets = list(map(lambda x: x[0], new_freq_itemsets))"
      ],
      "metadata": {
        "id": "-6QbJOEgAJs4"
      },
      "execution_count": null,
      "outputs": []
    },
    {
      "cell_type": "code",
      "source": [
        "counters_3perc.append(len(old_freq_itemsets))"
      ],
      "metadata": {
        "id": "LGQOe1-CAL4q"
      },
      "execution_count": null,
      "outputs": []
    },
    {
      "cell_type": "code",
      "source": [
        "counters_3perc"
      ],
      "metadata": {
        "id": "TJqrvgDZAMdr"
      },
      "execution_count": null,
      "outputs": []
    },
    {
      "cell_type": "markdown",
      "source": [
        "**Plot of counters of frequent itemsets**"
      ],
      "metadata": {
        "id": "PnuXZ5fkAPsN"
      }
    },
    {
      "cell_type": "code",
      "source": [
        "import pandas as pd\n",
        "import matplotlib.pyplot as plt"
      ],
      "metadata": {
        "id": "0vXugXJrAN_7"
      },
      "execution_count": null,
      "outputs": []
    },
    {
      "cell_type": "code",
      "source": [
        "counters_per_threshold = [counters_1perc, counters_2perc, counters_3perc]\n",
        "\n",
        "counters_per_threshold = pd.DataFrame(counters_per_threshold)\n",
        "counters_per_threshold.columns = ['1','2']\n",
        "counters_per_threshold['thresholds'] = [0.01, 0.02, 0.03]\n",
        "df = pd.melt(counters_per_threshold, id_vars=\"thresholds\", var_name=\"cardinality\", value_name=\"numbers\")"
      ],
      "metadata": {
        "id": "lFboZ9YJAZiZ"
      },
      "execution_count": null,
      "outputs": []
    },
    {
      "cell_type": "code",
      "source": [
        "f, ax = plt.subplots(figsize = (12,8))\n",
        "sns.barplot(x = 'thresholds', y = 'numbers', hue = 'cardinality', data = df, ax = ax)\n",
        "f.suptitle(\"Counts of frequent itemsets per threshold\")"
      ],
      "metadata": {
        "id": "v5uDK4BWAcxH"
      },
      "execution_count": null,
      "outputs": []
    }
  ]
}