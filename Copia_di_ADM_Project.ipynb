{
  "nbformat": 4,
  "nbformat_minor": 0,
  "metadata": {
    "colab": {
      "name": "Copia di ADM-Project.ipynb",
      "provenance": [],
      "collapsed_sections": [],
      "include_colab_link": true
    },
    "kernelspec": {
      "name": "python3",
      "display_name": "Python 3"
    },
    "language_info": {
      "name": "python"
    }
  },
  "cells": [
    {
      "cell_type": "markdown",
      "metadata": {
        "id": "view-in-github",
        "colab_type": "text"
      },
      "source": [
        "<a href=\"https://colab.research.google.com/github/paolaserra/Algorithms-for-massive-datasets/blob/main/Copia_di_ADM_Project.ipynb\" target=\"_parent\"><img src=\"https://colab.research.google.com/assets/colab-badge.svg\" alt=\"Open In Colab\"/></a>"
      ]
    },
    {
      "cell_type": "code",
      "execution_count": 2,
      "metadata": {
        "id": "qgYHmQ40lF4h"
      },
      "outputs": [],
      "source": [
        "#starting the project"
      ]
    },
    {
      "cell_type": "code",
      "source": [
        "# upload token file kaggle.json\n",
        "\n",
        "from google.colab import files\n",
        "files.upload()"
      ],
      "metadata": {
        "id": "DCX1hs3W4jCt",
        "outputId": "fd435f9f-8871-4d8a-d2a4-b7626da9d4a5",
        "colab": {
          "resources": {
            "http://localhost:8080/nbextensions/google.colab/files.js": {
              "data": "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",
              "ok": true,
              "headers": [
                [
                  "content-type",
                  "application/javascript"
                ]
              ],
              "status": 200,
              "status_text": ""
            }
          },
          "base_uri": "https://localhost:8080/",
          "height": 91
        }
      },
      "execution_count": 3,
      "outputs": [
        {
          "output_type": "display_data",
          "data": {
            "text/plain": [
              "<IPython.core.display.HTML object>"
            ],
            "text/html": [
              "\n",
              "     <input type=\"file\" id=\"files-b31aed7b-9d2b-4bef-8d18-17ec31cb64ca\" name=\"files[]\" multiple disabled\n",
              "        style=\"border:none\" />\n",
              "     <output id=\"result-b31aed7b-9d2b-4bef-8d18-17ec31cb64ca\">\n",
              "      Upload widget is only available when the cell has been executed in the\n",
              "      current browser session. Please rerun this cell to enable.\n",
              "      </output>\n",
              "      <script src=\"/nbextensions/google.colab/files.js\"></script> "
            ]
          },
          "metadata": {}
        },
        {
          "output_type": "stream",
          "name": "stdout",
          "text": [
            "Saving kaggle.json to kaggle.json\n"
          ]
        },
        {
          "output_type": "execute_result",
          "data": {
            "text/plain": [
              "{'kaggle.json': b'{\"username\":\"giuliahadjiandrea\",\"key\":\"fc0ce37d8f89c0421a66fda0695b7b94\"}'}"
            ]
          },
          "metadata": {},
          "execution_count": 3
        }
      ]
    },
    {
      "cell_type": "code",
      "source": [
        "# move the token file to the ./kaggle directory\n",
        "! mkdir /root/.kaggle   \n",
        "! cp kaggle.json ~/.kaggle/\n",
        "! chmod 600 ~/.kaggle/kaggle.json"
      ],
      "metadata": {
        "id": "AC3pFrwD4jUI"
      },
      "execution_count": 4,
      "outputs": []
    },
    {
      "cell_type": "markdown",
      "source": [
        "### **Access Kaggle API, download the \"Old Newspapers\" dataset and unzip it**"
      ],
      "metadata": {
        "id": "mML4Mo8F9l2p"
      }
    },
    {
      "cell_type": "code",
      "source": [
        "# authenticate to the Kaggle API\n",
        "!pip install kaggle\n",
        "import kaggle\n",
        "from kaggle.api.kaggle_api_extended import KaggleApi\n",
        "api = KaggleApi()\n",
        "api.authenticate()"
      ],
      "metadata": {
        "colab": {
          "base_uri": "https://localhost:8080/"
        },
        "id": "ofa9LqPf9nrQ",
        "outputId": "dbc2b931-a29f-49bd-d65e-1257ce179ac0"
      },
      "execution_count": 5,
      "outputs": [
        {
          "output_type": "stream",
          "name": "stdout",
          "text": [
            "Requirement already satisfied: kaggle in /usr/local/lib/python3.7/dist-packages (1.5.12)\n",
            "Requirement already satisfied: requests in /usr/local/lib/python3.7/dist-packages (from kaggle) (2.23.0)\n",
            "Requirement already satisfied: certifi in /usr/local/lib/python3.7/dist-packages (from kaggle) (2021.10.8)\n",
            "Requirement already satisfied: tqdm in /usr/local/lib/python3.7/dist-packages (from kaggle) (4.63.0)\n",
            "Requirement already satisfied: python-dateutil in /usr/local/lib/python3.7/dist-packages (from kaggle) (2.8.2)\n",
            "Requirement already satisfied: urllib3 in /usr/local/lib/python3.7/dist-packages (from kaggle) (1.24.3)\n",
            "Requirement already satisfied: six>=1.10 in /usr/local/lib/python3.7/dist-packages (from kaggle) (1.15.0)\n",
            "Requirement already satisfied: python-slugify in /usr/local/lib/python3.7/dist-packages (from kaggle) (6.1.1)\n",
            "Requirement already satisfied: text-unidecode>=1.3 in /usr/local/lib/python3.7/dist-packages (from python-slugify->kaggle) (1.3)\n",
            "Requirement already satisfied: chardet<4,>=3.0.2 in /usr/local/lib/python3.7/dist-packages (from requests->kaggle) (3.0.4)\n",
            "Requirement already satisfied: idna<3,>=2.5 in /usr/local/lib/python3.7/dist-packages (from requests->kaggle) (2.10)\n"
          ]
        }
      ]
    },
    {
      "cell_type": "code",
      "source": [
        "# download and unzip \"Old Newspapers\" dataset\n",
        "\n",
        "!kaggle datasets download -d alvations/old-newspapers"
      ],
      "metadata": {
        "colab": {
          "base_uri": "https://localhost:8080/"
        },
        "id": "dwtAsLlw93q6",
        "outputId": "b1c8bda7-f23d-4b34-f20f-33406d402ebe"
      },
      "execution_count": 6,
      "outputs": [
        {
          "output_type": "stream",
          "name": "stdout",
          "text": [
            "Downloading old-newspapers.zip to /content\n",
            " 99% 2.04G/2.05G [00:16<00:00, 128MB/s]\n",
            "100% 2.05G/2.05G [00:16<00:00, 130MB/s]\n"
          ]
        }
      ]
    },
    {
      "cell_type": "code",
      "source": [
        "!unzip old-newspapers.zip"
      ],
      "metadata": {
        "colab": {
          "base_uri": "https://localhost:8080/"
        },
        "id": "R1w4uPFW93xo",
        "outputId": "73ac311d-bc27-4db6-92dd-6bdc8a8059ad"
      },
      "execution_count": 7,
      "outputs": [
        {
          "output_type": "stream",
          "name": "stdout",
          "text": [
            "Archive:  old-newspapers.zip\n",
            "  inflating: old-newspaper.tsv       \n"
          ]
        }
      ]
    },
    {
      "cell_type": "markdown",
      "source": [
        "### **Initialize a SparkContext object**\n"
      ],
      "metadata": {
        "id": "5ipwOMFDNvlJ"
      }
    },
    {
      "cell_type": "code",
      "source": [
        "# check number of available cores\n",
        "\n",
        "!cat /proc/cpuinfo"
      ],
      "metadata": {
        "colab": {
          "base_uri": "https://localhost:8080/"
        },
        "id": "X3vuJ02cN5x4",
        "outputId": "43a42cf2-e5bd-4cc0-c99f-b13c8cf14c6a"
      },
      "execution_count": 8,
      "outputs": [
        {
          "output_type": "stream",
          "name": "stdout",
          "text": [
            "processor\t: 0\n",
            "vendor_id\t: GenuineIntel\n",
            "cpu family\t: 6\n",
            "model\t\t: 79\n",
            "model name\t: Intel(R) Xeon(R) CPU @ 2.20GHz\n",
            "stepping\t: 0\n",
            "microcode\t: 0x1\n",
            "cpu MHz\t\t: 2199.998\n",
            "cache size\t: 56320 KB\n",
            "physical id\t: 0\n",
            "siblings\t: 2\n",
            "core id\t\t: 0\n",
            "cpu cores\t: 1\n",
            "apicid\t\t: 0\n",
            "initial apicid\t: 0\n",
            "fpu\t\t: yes\n",
            "fpu_exception\t: yes\n",
            "cpuid level\t: 13\n",
            "wp\t\t: yes\n",
            "flags\t\t: fpu vme de pse tsc msr pae mce cx8 apic sep mtrr pge mca cmov pat pse36 clflush mmx fxsr sse sse2 ss ht syscall nx pdpe1gb rdtscp lm constant_tsc rep_good nopl xtopology nonstop_tsc cpuid tsc_known_freq pni pclmulqdq ssse3 fma cx16 pcid sse4_1 sse4_2 x2apic movbe popcnt aes xsave avx f16c rdrand hypervisor lahf_lm abm 3dnowprefetch invpcid_single ssbd ibrs ibpb stibp fsgsbase tsc_adjust bmi1 hle avx2 smep bmi2 erms invpcid rtm rdseed adx smap xsaveopt arat md_clear arch_capabilities\n",
            "bugs\t\t: cpu_meltdown spectre_v1 spectre_v2 spec_store_bypass l1tf mds swapgs taa\n",
            "bogomips\t: 4399.99\n",
            "clflush size\t: 64\n",
            "cache_alignment\t: 64\n",
            "address sizes\t: 46 bits physical, 48 bits virtual\n",
            "power management:\n",
            "\n",
            "processor\t: 1\n",
            "vendor_id\t: GenuineIntel\n",
            "cpu family\t: 6\n",
            "model\t\t: 79\n",
            "model name\t: Intel(R) Xeon(R) CPU @ 2.20GHz\n",
            "stepping\t: 0\n",
            "microcode\t: 0x1\n",
            "cpu MHz\t\t: 2199.998\n",
            "cache size\t: 56320 KB\n",
            "physical id\t: 0\n",
            "siblings\t: 2\n",
            "core id\t\t: 0\n",
            "cpu cores\t: 1\n",
            "apicid\t\t: 1\n",
            "initial apicid\t: 1\n",
            "fpu\t\t: yes\n",
            "fpu_exception\t: yes\n",
            "cpuid level\t: 13\n",
            "wp\t\t: yes\n",
            "flags\t\t: fpu vme de pse tsc msr pae mce cx8 apic sep mtrr pge mca cmov pat pse36 clflush mmx fxsr sse sse2 ss ht syscall nx pdpe1gb rdtscp lm constant_tsc rep_good nopl xtopology nonstop_tsc cpuid tsc_known_freq pni pclmulqdq ssse3 fma cx16 pcid sse4_1 sse4_2 x2apic movbe popcnt aes xsave avx f16c rdrand hypervisor lahf_lm abm 3dnowprefetch invpcid_single ssbd ibrs ibpb stibp fsgsbase tsc_adjust bmi1 hle avx2 smep bmi2 erms invpcid rtm rdseed adx smap xsaveopt arat md_clear arch_capabilities\n",
            "bugs\t\t: cpu_meltdown spectre_v1 spectre_v2 spec_store_bypass l1tf mds swapgs taa\n",
            "bogomips\t: 4399.99\n",
            "clflush size\t: 64\n",
            "cache_alignment\t: 64\n",
            "address sizes\t: 46 bits physical, 48 bits virtual\n",
            "power management:\n",
            "\n"
          ]
        }
      ]
    },
    {
      "cell_type": "code",
      "source": [
        "# initialize a SparkContext object \n",
        "\n",
        "! pip install pyspark\n",
        "\n",
        "import pyspark\n",
        "sc = pyspark.SparkContext()"
      ],
      "metadata": {
        "colab": {
          "base_uri": "https://localhost:8080/"
        },
        "id": "mlmIwUMKOWlf",
        "outputId": "fe5e9182-5adf-479b-e1a7-7c92e44fa5e9"
      },
      "execution_count": 9,
      "outputs": [
        {
          "output_type": "stream",
          "name": "stdout",
          "text": [
            "Collecting pyspark\n",
            "  Downloading pyspark-3.2.1.tar.gz (281.4 MB)\n",
            "\u001b[K     |████████████████████████████████| 281.4 MB 37 kB/s \n",
            "\u001b[?25hCollecting py4j==0.10.9.3\n",
            "  Downloading py4j-0.10.9.3-py2.py3-none-any.whl (198 kB)\n",
            "\u001b[K     |████████████████████████████████| 198 kB 64.1 MB/s \n",
            "\u001b[?25hBuilding wheels for collected packages: pyspark\n",
            "  Building wheel for pyspark (setup.py) ... \u001b[?25l\u001b[?25hdone\n",
            "  Created wheel for pyspark: filename=pyspark-3.2.1-py2.py3-none-any.whl size=281853642 sha256=58f6f743a00743c5c1f2b8d797407eb1528361d4ec39192e3c3f8a9c3ce7cb81\n",
            "  Stored in directory: /root/.cache/pip/wheels/9f/f5/07/7cd8017084dce4e93e84e92efd1e1d5334db05f2e83bcef74f\n",
            "Successfully built pyspark\n",
            "Installing collected packages: py4j, pyspark\n",
            "Successfully installed py4j-0.10.9.3 pyspark-3.2.1\n"
          ]
        }
      ]
    },
    {
      "cell_type": "code",
      "source": [
        "#install Java8\n",
        "!apt-get install openjdk-8-jdk-headless -qq > /dev/null  \n"
      ],
      "metadata": {
        "id": "xmz8qZG0OkXa"
      },
      "execution_count": 10,
      "outputs": []
    },
    {
      "cell_type": "code",
      "source": [
        "# install spark (change the version number if needed)\n",
        "!wget -q https://archive.apache.org/dist/spark/spark-3.0.2/spark-3.0.2-bin-hadoop3.2.tgz\n"
      ],
      "metadata": {
        "id": "0ftynfwZP4h_"
      },
      "execution_count": 11,
      "outputs": []
    },
    {
      "cell_type": "code",
      "source": [
        "# unzip the spark file to the current folder\n",
        "!tar xf spark-3.0.2-bin-hadoop3.2.tgz\n",
        "\n",
        "#install findspark\n",
        "!pip install -q findspark"
      ],
      "metadata": {
        "id": "sgRIFOYrRgYM"
      },
      "execution_count": 12,
      "outputs": []
    },
    {
      "cell_type": "code",
      "source": [
        "# set your spark folder to your system path environment. \n",
        "import os\n",
        "os.environ[\"JAVA_HOME\"] = \"/usr/lib/jvm/java-8-openjdk-amd64\"\n",
        "os.environ[\"SPARK_HOME\"] = \"/content/spark-3.0.2-bin-hadoop3.2\""
      ],
      "metadata": {
        "id": "5OKU7QCSPPw8"
      },
      "execution_count": 13,
      "outputs": []
    },
    {
      "cell_type": "code",
      "source": [
        "import findspark\n",
        "findspark.init(\"spark-3.0.2-bin-hadoop3.2\")  #SPARK_HOME\n",
        "from pyspark.sql import SparkSession\n",
        "spark = SparkSession.builder.master(\"local[*]\").getOrCreate()"
      ],
      "metadata": {
        "id": "wElZAqQdSczB"
      },
      "execution_count": 14,
      "outputs": []
    },
    {
      "cell_type": "markdown",
      "source": [
        "**PREPROCESSING**"
      ],
      "metadata": {
        "id": "qMBQmFtUaIwc"
      }
    },
    {
      "cell_type": "markdown",
      "source": [
        "Content\n",
        "The columns of each row in the .tsv file are:\n",
        "\n",
        "Langauge: Language of the text.\n",
        "\n",
        "Source: Newspaper from which the text is from.\n",
        "\n",
        "Date: Date of the article that contains the text.\n",
        "\n",
        "Text: Sentence/paragraph from the newspaper\n"
      ],
      "metadata": {
        "id": "FBh0UUqNgmge"
      }
    },
    {
      "cell_type": "code",
      "source": [
        "#DATASET to DF\n",
        "import pandas\n",
        "df = spark.read.csv(\"/content/old-newspaper.tsv\", sep=r'\\t', header=True)"
      ],
      "metadata": {
        "id": "tjXsenQTaLJV"
      },
      "execution_count": 15,
      "outputs": []
    },
    {
      "cell_type": "code",
      "source": [
        "df.head(1)"
      ],
      "metadata": {
        "colab": {
          "base_uri": "https://localhost:8080/"
        },
        "id": "HjQmDyK6jKy8",
        "outputId": "ff120df4-44d7-4980-9756-667d8c0b2a46"
      },
      "execution_count": 16,
      "outputs": [
        {
          "output_type": "execute_result",
          "data": {
            "text/plain": [
              "[Row(Language='Afrikaans', Source='republikein.com.na', Date='2011/09/14', Text='Die veranderinge aan die Britsgeboude Avensis sluit in hersiene stilering aan die buitekant, wat n voorkantontwerp ingevolge Toyota se nuwe ontwerpstyl insluit.')]"
            ]
          },
          "metadata": {},
          "execution_count": 16
        }
      ]
    },
    {
      "cell_type": "code",
      "source": [
        "# create an RDD from the \"Old Newspapers\" dataset and display the first instance\n",
        "\n",
        "newsRDD = sc.textFile(\"old-newspaper.tsv\", 2)  #min partions\n",
        "newsRDD.take(1)"
      ],
      "metadata": {
        "colab": {
          "base_uri": "https://localhost:8080/"
        },
        "id": "sRepE5E8h5rb",
        "outputId": "05a6ceec-abf2-4000-a09d-5097d64aeb1f"
      },
      "execution_count": 17,
      "outputs": [
        {
          "output_type": "execute_result",
          "data": {
            "text/plain": [
              "['Language\\tSource\\tDate\\tText']"
            ]
          },
          "metadata": {},
          "execution_count": 17
        }
      ]
    },
    {
      "cell_type": "code",
      "source": [
        "newsRDD.take(10)"
      ],
      "metadata": {
        "colab": {
          "base_uri": "https://localhost:8080/"
        },
        "id": "Anigk9tAMzvv",
        "outputId": "4879b927-8ad4-434b-bed8-bc2c48b3cffb"
      },
      "execution_count": 18,
      "outputs": [
        {
          "output_type": "execute_result",
          "data": {
            "text/plain": [
              "['Language\\tSource\\tDate\\tText',\n",
              " 'Afrikaans\\trepublikein.com.na\\t2011/09/14\\tDie veranderinge aan die Britsgeboude Avensis sluit in hersiene stilering aan die buitekant, wat n voorkantontwerp ingevolge Toyota se nuwe ontwerpstyl insluit.',\n",
              " 'Afrikaans\\trepublikein.com.na\\t2011/01/20\\tDuitsland se mans- en vrouespanne is die afgelope twee jaar die verdedigende kampioene. Beide Namibië se spanne is hard aan die voorberei vir die wêreldtoernooi wat van 8 tot 13 Februarie plaasvind. Die Regering het vroeg in verlede maand N$1,2 miljoen aan die Namibiese Hokkiefederasie (NHF) beskikbaar gestel om al die koste te dra vir die voorbereiding van die twee spanne vir die Wêreldbeker.',\n",
              " 'Afrikaans\\tsake24.com\\t2009/11/28\\tMnr. Estienne de Klerk, uitvoerende direkteur van Growthpoint, die land se grootste genoteerde ?eiendomsgroep, het Vrydag aan ?Sake24 gesê die maatskappy sal sekerlik belangstel om die V&A te koop as hy die kans kry.',\n",
              " 'Afrikaans\\tsake24.com\\t2009/11/12\\tMustek is se finansiële-resultate-advertensie vir die jaar tot einde Junie vanjaar is aangewys as die beste advertensie wat inhoud betref. Silverbridge Holdings was tweede en Exxaro derde.',\n",
              " 'Afrikaans\\tsake24.com\\t2011/02/04\\tnadat LMS se raad van trustees in Junie verlede jaar teen ’n samesmelting met die mediese fonds Spectramed besluit het. Die vete het ook einde verlede jaar in die hof gedraai. Vmed en Vmedical Solutions het toe ’n dringende aansoek by die Suid-Gautengse hooggeregshof ingedien om te keer dat twee LMS-trustees betrokke raak by besluite oor sekere kontrakte wat Vmed en Vmedical Solutions vroeër met LMS oor verkoops-, verspreidings-, bemarkings- en administratiewe dienste gesluit het.',\n",
              " 'Afrikaans\\tpraag.co.za\\t2011/06/09\\tHierdie hersirkulering van kaders werk net so negatief in as die gevalle waar nie teen kaders opgetree word nie, of nie voor dit werklik nie meer anders kan nie.',\n",
              " 'Afrikaans\\trapport.co.za\\t2011/07/15\\tVolgens ao. November Filander, polisiewoordvoerder, het ’n argument tydens hul ontmoeting ontstaan waartydens “die verdagte aggressief geraak en die kantoorlessenaar op die professor omgekeer het”.',\n",
              " 'Afrikaans\\trepublikein.com.na\\t2011/05/20\\tDie plant is besonder gehard en kan selfs uiterste klimaatsveranderinge weerstaan. In die somer kan die temperature in die Wes-Kaap tot 45ºC styg en in die winter daal dit tot onder vriespunt. In hoogliggende gebiede is daar by tye ryp, sneeu en sterk winde.',\n",
              " 'Afrikaans\\trepublikein.com.na\\t2011/10/19\\tDit volg op twee vorige ekspos deur SMEs Compete in die Erongo-streek een op Walvisbaai en een op Uis. Die laaste ekspo van die jaar sal in die eerste naweek van Desember op Oshakati gehou word. Die kusekspo op Walvisbaai is die vierde agtereenvolgende jaar aangebied.']"
            ]
          },
          "metadata": {},
          "execution_count": 18
        }
      ]
    },
    {
      "cell_type": "code",
      "source": [
        "def split_row(x):\n",
        "\n",
        "  tup = x.split('''\\t''')\n",
        "  \n",
        "  date = tup[2]\n",
        "  year = date[:4]  \n",
        "\n",
        "  return (tup[0], year, tup[3])"
      ],
      "metadata": {
        "id": "J0AiMbnWgbMv"
      },
      "execution_count": 19,
      "outputs": []
    },
    {
      "cell_type": "code",
      "source": [
        "subRDD = newsRDD.map(split_row)\n",
        "subRDD.take(1)"
      ],
      "metadata": {
        "colab": {
          "base_uri": "https://localhost:8080/"
        },
        "id": "OaOdeyQKgin2",
        "outputId": "31a08229-08aa-4948-ca0a-cc90c7a0a371"
      },
      "execution_count": 20,
      "outputs": [
        {
          "output_type": "execute_result",
          "data": {
            "text/plain": [
              "[('Language', 'Date', 'Text')]"
            ]
          },
          "metadata": {},
          "execution_count": 20
        }
      ]
    },
    {
      "cell_type": "code",
      "source": [
        "#count by language\n",
        "\n",
        "subRDD.map(lambda t: t[0]).countByValue()   "
      ],
      "metadata": {
        "colab": {
          "base_uri": "https://localhost:8080/"
        },
        "id": "Oj8hS3w4GJb-",
        "outputId": "8ab97e24-0ca1-4c31-a86f-bc1172ddcfa9"
      },
      "execution_count": 21,
      "outputs": [
        {
          "output_type": "execute_result",
          "data": {
            "text/plain": [
              "defaultdict(int,\n",
              "            {'Afrikaans': 152312,\n",
              "             'Albanian': 228553,\n",
              "             'Amharic': 32553,\n",
              "             'Arabic': 202461,\n",
              "             'Armenian': 156586,\n",
              "             'Azerbaijan': 140995,\n",
              "             'Bengali': 58998,\n",
              "             'Bosnian': 181370,\n",
              "             'Catalan': 81893,\n",
              "             'Chinese (Simplified)': 682472,\n",
              "             'Chinese (Traditional)': 333735,\n",
              "             'Croatian': 227317,\n",
              "             'Czech': 276881,\n",
              "             'Danish': 887016,\n",
              "             'Dutch': 232176,\n",
              "             'English': 1010242,\n",
              "             'Farsi': 306846,\n",
              "             'Finnish': 485758,\n",
              "             'French': 358001,\n",
              "             'Galician': 227073,\n",
              "             'Georgian': 164614,\n",
              "             'German': 244743,\n",
              "             'Greek': 230405,\n",
              "             'Hebrew': 199047,\n",
              "             'Hindi': 115445,\n",
              "             'Hungarian': 245685,\n",
              "             'Icelandic': 39093,\n",
              "             'Indonesian': 781521,\n",
              "             'Italian': 169630,\n",
              "             'Japanese': 312916,\n",
              "             'Kannada': 175824,\n",
              "             'Kazakh': 77799,\n",
              "             'Khmer': 55674,\n",
              "             'Korean': 667314,\n",
              "             'Language': 1,\n",
              "             'Latvian': 319428,\n",
              "             'Lithuanian': 149453,\n",
              "             'Macedonian': 144853,\n",
              "             'Malay': 356723,\n",
              "             'Malayalam': 40484,\n",
              "             'Mongolian': 108846,\n",
              "             'Nepali': 54877,\n",
              "             'Norwegian (Bokmal)': 554226,\n",
              "             'Polish': 386896,\n",
              "             'Portuguese (Brazil)': 380983,\n",
              "             'Portuguese (EU)': 236644,\n",
              "             'Punjabi': 167898,\n",
              "             'Romanian': 271140,\n",
              "             'Russian': 260047,\n",
              "             'Serbian': 167587,\n",
              "             'Sinhalese': 143970,\n",
              "             'Slovak': 245660,\n",
              "             'Slovenian': 89104,\n",
              "             'Spanish': 309918,\n",
              "             'Spanish (South America)': 389620,\n",
              "             'Swahili': 228011,\n",
              "             'Swedish': 342884,\n",
              "             'Tagalog': 136199,\n",
              "             'Tamil': 78440,\n",
              "             'Telugu': 71084,\n",
              "             'Thai': 190078,\n",
              "             'Turkish': 360363,\n",
              "             'Ukranian': 306617,\n",
              "             'Urdu': 74878,\n",
              "             'Uzbek': 148161,\n",
              "             'Vietnamese': 284419,\n",
              "             'Welsh': 63602})"
            ]
          },
          "metadata": {},
          "execution_count": 21
        }
      ]
    },
    {
      "cell_type": "code",
      "source": [
        "# count by years\n",
        "\n",
        "subRDD.map(lambda t: t[1]).countByValue()"
      ],
      "metadata": {
        "colab": {
          "base_uri": "https://localhost:8080/"
        },
        "id": "OiuX3pRBh_47",
        "outputId": "f24aeed2-24e7-4f26-c0e8-98f2d6a9323e"
      },
      "execution_count": 22,
      "outputs": [
        {
          "output_type": "execute_result",
          "data": {
            "text/plain": [
              "defaultdict(int,\n",
              "            {'1970': 6,\n",
              "             '2000': 6075,\n",
              "             '2001': 7811,\n",
              "             '2002': 6183,\n",
              "             '2003': 8452,\n",
              "             '2004': 20091,\n",
              "             '2005': 77733,\n",
              "             '2006': 169678,\n",
              "             '2007': 369179,\n",
              "             '2008': 687741,\n",
              "             '2009': 1494895,\n",
              "             '2010': 3207680,\n",
              "             '2011': 7247763,\n",
              "             '2012': 2812367,\n",
              "             '2013': 380469,\n",
              "             'Date': 1,\n",
              "             'UNKN': 309918})"
            ]
          },
          "metadata": {},
          "execution_count": 22
        }
      ]
    },
    {
      "cell_type": "code",
      "source": [
        "# look directly at those with year = 'Date' or year = '1970'\n",
        "\n",
        "subRDD.filter(lambda t: t[1]=='Date' or t[1]=='1970') \\\n",
        "      .collect()"
      ],
      "metadata": {
        "colab": {
          "base_uri": "https://localhost:8080/"
        },
        "id": "m7i5wcfxiVNp",
        "outputId": "b847a909-3efe-49e4-badb-580804061986"
      },
      "execution_count": 23,
      "outputs": [
        {
          "output_type": "execute_result",
          "data": {
            "text/plain": [
              "[('Language', 'Date', 'Text'),\n",
              " ('French',\n",
              "  '1970',\n",
              "  \"Habitué depuis deux ans à faire venir des attaquants au mercato hivernal (Quercia en 2008 et Birsa en 2009), Jean Fernandez justifie les arrivées de Jo-Gook et Fall comme des choix « d'avenir ». Et éclaire sur la capacité de ces joueurs à réussir à court terme. « L'expérience me fait dire qu'il y a plus d'échecs que de réussite au mercato d'hiver. Lorsque j'étais à Marseille, Maoulida et Pagis avaient été de bonnes recrues ».\"),\n",
              " ('French',\n",
              "  '1970',\n",
              "  \"Deux joueurs qui n'ont rien coûté, ou presque, à l'AJA fidèle à sa stratégie de recruter malin. Jo-Gook, auteur d'une apparition en Coupe de France et une en Ligue 1, a confirmé que « le Patriot », comme il est surnommé en Corée du Sud, aura besoin de quelques mois d'adaptation.\"),\n",
              " ('French',\n",
              "  '1970',\n",
              "  \"Ce que l'on sait, d'ores-et-déjà, c'est que Jelen (en fin de contrat en juin) a peu de chances d'en faire partie. La tendance de l'hiver ne sera peut-être pas celle de l'été, certes. Mais il y a quelques jours, Jean Fernandez s'était montré plutôt catégorique : « Jelen partira en fin de saison ».\"),\n",
              " ('French',\n",
              "  '1970',\n",
              "  \"Compte tenu de l'incertitude qui pèse sur l'avenir en fin de saison de beaucoup d'éléments clé de l'effectif, à commencer par celui de Jean Fernandez, il apparaît très prématuré d'envisager dès maintenant l'AJA version 2011/2012.\"),\n",
              " ('French',\n",
              "  '1970',\n",
              "  'La paire avait inscrit 12 buts en quatre mois. La marche semble haute pour les néo-Auxerrois. Comme pour Jelen.'),\n",
              " ('French', '1970', 'Les promesses de Fall')]"
            ]
          },
          "metadata": {},
          "execution_count": 23
        }
      ]
    },
    {
      "cell_type": "code",
      "source": [
        "# look at the language in which the ones with unknown date were written\n",
        "\n",
        "subRDD.filter(lambda t: t[1]=='UNKN') \\\n",
        "      .map(lambda t: t[0]) \\\n",
        "      .countByValue()  # all in Spanish"
      ],
      "metadata": {
        "colab": {
          "base_uri": "https://localhost:8080/"
        },
        "id": "wac-BpEjkh3x",
        "outputId": "0f3e8c92-13b6-4d2e-a371-a18461f64524"
      },
      "execution_count": 24,
      "outputs": [
        {
          "output_type": "execute_result",
          "data": {
            "text/plain": [
              "defaultdict(int, {'Spanish': 309918})"
            ]
          },
          "metadata": {},
          "execution_count": 24
        }
      ]
    },
    {
      "cell_type": "code",
      "source": [
        "textRDD = subRDD.filter(lambda x: x[0]=='French') \\\n",
        "          .map(lambda t: t[0]) \\\n",
        "          .countByValue()"
      ],
      "metadata": {
        "id": "oQIXlZHzkiDz"
      },
      "execution_count": 25,
      "outputs": []
    },
    {
      "cell_type": "code",
      "source": [
        "df.show()\n"
      ],
      "metadata": {
        "id": "D61y2TENkiJ1",
        "colab": {
          "base_uri": "https://localhost:8080/"
        },
        "outputId": "01936e5b-55f5-4a83-e97f-5d17621c6361"
      },
      "execution_count": 26,
      "outputs": [
        {
          "output_type": "stream",
          "name": "stdout",
          "text": [
            "+---------+------------------+----------+--------------------+\n",
            "| Language|            Source|      Date|                Text|\n",
            "+---------+------------------+----------+--------------------+\n",
            "|Afrikaans|republikein.com.na|2011/09/14|Die veranderinge ...|\n",
            "|Afrikaans|republikein.com.na|2011/01/20|Duitsland se mans...|\n",
            "|Afrikaans|        sake24.com|2009/11/28|Mnr. Estienne de ...|\n",
            "|Afrikaans|        sake24.com|2009/11/12|Mustek is se fina...|\n",
            "|Afrikaans|        sake24.com|2011/02/04|nadat LMS se raad...|\n",
            "|Afrikaans|       praag.co.za|2011/06/09|Hierdie hersirkul...|\n",
            "|Afrikaans|     rapport.co.za|2011/07/15|Volgens ao. Novem...|\n",
            "|Afrikaans|republikein.com.na|2011/05/20|Die plant is beso...|\n",
            "|Afrikaans|republikein.com.na|2011/10/19|Dit volg op twee ...|\n",
            "|Afrikaans|       praag.co.za|2009/06/01|Daarom moet 'n Af...|\n",
            "|Afrikaans|        sake24.com|2011/03/14|Trusts word nie i...|\n",
            "|Afrikaans|        sake24.com|2009/11/28|Dit was ook duide...|\n",
            "|Afrikaans|republikein.com.na|2011/07/14|Na n oorlog van 1...|\n",
            "|Afrikaans|        sake24.com|2009/06/21|Pick n Pay se pog...|\n",
            "|Afrikaans|       praag.co.za|2009/12/10|Die VSA se hoofon...|\n",
            "|Afrikaans|     dieburger.com|2011/10/11|Veral gegewe die ...|\n",
            "|Afrikaans|republikein.com.na|2011/01/14|Hoofinsp. Clay he...|\n",
            "|Afrikaans|republikein.com.na|2010/02/12|Die hoofdoel is o...|\n",
            "|Afrikaans|        sake24.com|2010/03/07|Dit sou beteken d...|\n",
            "|Afrikaans|       praag.co.za|2009/12/01|Gedurende 'n verr...|\n",
            "+---------+------------------+----------+--------------------+\n",
            "only showing top 20 rows\n",
            "\n"
          ]
        }
      ]
    },
    {
      "cell_type": "code",
      "source": [
        "re #Regular expressions are text matching patterns described with a formal syntax."
      ],
      "metadata": {
        "colab": {
          "base_uri": "https://localhost:8080/",
          "height": 165
        },
        "id": "pibT_7nDjEif",
        "outputId": "d1386c19-9c05-4c2c-f998-ab48cc9dadde"
      },
      "execution_count": 27,
      "outputs": [
        {
          "output_type": "error",
          "ename": "NameError",
          "evalue": "ignored",
          "traceback": [
            "\u001b[0;31m---------------------------------------------------------------------------\u001b[0m",
            "\u001b[0;31mNameError\u001b[0m                                 Traceback (most recent call last)",
            "\u001b[0;32m<ipython-input-27-95e36664e0b1>\u001b[0m in \u001b[0;36m<module>\u001b[0;34m()\u001b[0m\n\u001b[0;32m----> 1\u001b[0;31m \u001b[0mre\u001b[0m \u001b[0;31m#Regular expressions are text matching patterns described with a formal syntax.\u001b[0m\u001b[0;34m\u001b[0m\u001b[0;34m\u001b[0m\u001b[0m\n\u001b[0m",
            "\u001b[0;31mNameError\u001b[0m: name 're' is not defined"
          ]
        }
      ]
    },
    {
      "cell_type": "code",
      "source": [
        "textRDD = subRDD.filter(lambda x: x[0]=='French').countByValue()\n",
        "\n",
        "\n",
        "print(textRDD)"
      ],
      "metadata": {
        "id": "aP6_o_E4CL69"
      },
      "execution_count": null,
      "outputs": []
    },
    {
      "cell_type": "code",
      "source": [
        "print(textRDD)"
      ],
      "metadata": {
        "id": "-IeGu864DF6c"
      },
      "execution_count": null,
      "outputs": []
    },
    {
      "cell_type": "markdown",
      "source": [
        ""
      ],
      "metadata": {
        "id": "mTdnc99LPJMh"
      }
    },
    {
      "cell_type": "code",
      "source": [
        "textRDD = subRDD.filter(lambda x: x[0]=='English')"
      ],
      "metadata": {
        "id": "cEWCPjxzPRLg"
      },
      "execution_count": 28,
      "outputs": []
    },
    {
      "cell_type": "code",
      "source": [
        "textRDD.take(5)"
      ],
      "metadata": {
        "colab": {
          "base_uri": "https://localhost:8080/"
        },
        "id": "7U89ZfvYPWfA",
        "outputId": "088665d0-2f9d-4690-b77a-1fc76f79435e"
      },
      "execution_count": 29,
      "outputs": [
        {
          "output_type": "execute_result",
          "data": {
            "text/plain": [
              "[('English', '2012', \"He wasn't home alone, apparently.\"),\n",
              " ('English',\n",
              "  '2011',\n",
              "  'The St. Louis plant had to close. It would die of old age. Workers had been making cars there since the onset of mass automotive production in the 1920s.'),\n",
              " ('English',\n",
              "  '2012',\n",
              "  \"WSU's plans quickly became a hot topic on local online sites. Though most people applauded plans for the new biomedical center, many deplored the potential loss of the building.\"),\n",
              " ('English',\n",
              "  '2011',\n",
              "  'The Alaimo Group of Mount Holly was up for a contract last fall to evaluate and suggest improvements to Trenton Water Works. But campaign finance records released this week show the two employees donated a total of $4,500 to the political action committee (PAC) Partners for Progress in early June. Partners for Progress reported it gave more than $10,000 in both direct and in-kind contributions to Mayor Tony Mack in the two weeks leading up to his victory in the mayoral runoff election June 15.'),\n",
              " ('English',\n",
              "  '2011',\n",
              "  \"And when it's often difficult to predict a law's impact, legislators should think twice before carrying any bill. Is it absolutely necessary? Is it an issue serious enough to merit their attention? Will it definitely not make the situation worse?\")]"
            ]
          },
          "metadata": {},
          "execution_count": 29
        }
      ]
    },
    {
      "cell_type": "code",
      "source": [
        "textRDD = textRDD.sample(withReplacement = False, fraction = 0.1, seed = 1262).repartition(2)  "
      ],
      "metadata": {
        "id": "pyooow1GPhKY"
      },
      "execution_count": 30,
      "outputs": []
    },
    {
      "cell_type": "code",
      "source": [
        "import nltk\n",
        "nltk.download('punkt')\n",
        "nltk.download('stopwords')\n",
        "nltk.download('wordnet')\n",
        "\n",
        "import re\n",
        "\n",
        "from nltk.corpus import stopwords\n",
        "\n",
        "from numpy import unique\n",
        "from string import punctuation\n",
        "\n",
        "def preprocess(tup):\n",
        "\n",
        "  ### ARGS\n",
        "  # tup = (language, date, text)\n",
        "\n",
        "  ### OUTPUT\n",
        "  # list of lemmatized tokens in the text field\n",
        "\n",
        "  ### REQUIRES\n",
        "  # libraries: nltk, re, numpy.unique, string.punctuation\n",
        "  # modules (nltk): stopwords, punkt, wordnet \n",
        "\n",
        "  if tup[0] == 'English':\n",
        "    sw = stopwords.words(\"english\") + list(punctuation) + [\"n't\", \"'m\", \"'d\", \"'re\", \"'s\",\"'ve\", \"'ll\", '``', \"''\", \"--\", '“', '’','”','...',\"«\", \"»\", \"–\"]\n",
        "  else:\n",
        "    sw = stopwords.words(\"italian\") + list(punctuation) + [\"«\", \"»\", \"–\",'``', \"''\", \"--\", '“', '’','”','...']\n",
        "\n",
        "  text = re.sub(r'[^a-zA-z0-9.,!?/:;\\\"\\'\\s]', '', tup[2])\n",
        "\n",
        "  lemmatizer = nltk.WordNetLemmatizer()\n",
        "  tokenized_text = nltk.word_tokenize(text.lower())\n",
        "  tokenized_text = list(unique(tokenized_text))\n",
        "\n",
        "  return [lemmatizer.lemmatize(w) for w in tokenized_text if w not in sw]"
      ],
      "metadata": {
        "colab": {
          "base_uri": "https://localhost:8080/"
        },
        "id": "PIbwvOBzPwSA",
        "outputId": "b390ad49-504f-410f-af03-99f5cb4a451d"
      },
      "execution_count": 31,
      "outputs": [
        {
          "output_type": "stream",
          "name": "stdout",
          "text": [
            "[nltk_data] Downloading package punkt to /root/nltk_data...\n",
            "[nltk_data]   Unzipping tokenizers/punkt.zip.\n",
            "[nltk_data] Downloading package stopwords to /root/nltk_data...\n",
            "[nltk_data]   Unzipping corpora/stopwords.zip.\n",
            "[nltk_data] Downloading package wordnet to /root/nltk_data...\n",
            "[nltk_data]   Unzipping corpora/wordnet.zip.\n"
          ]
        }
      ]
    },
    {
      "cell_type": "code",
      "source": [
        "text_tokenized = textRDD.map(preprocess)"
      ],
      "metadata": {
        "id": "RTVReXtvP3BJ"
      },
      "execution_count": 32,
      "outputs": []
    },
    {
      "cell_type": "code",
      "source": [
        "text_tokenized.take(5)"
      ],
      "metadata": {
        "colab": {
          "base_uri": "https://localhost:8080/"
        },
        "id": "4Tx0bA3VP3dC",
        "outputId": "7a2e55b5-1d36-4ba8-850c-eb714d66c5dc"
      },
      "execution_count": 34,
      "outputs": [
        {
          "output_type": "execute_result",
          "data": {
            "text/plain": [
              "[['even',\n",
              "  'game',\n",
              "  'kept',\n",
              "  'like',\n",
              "  'looked',\n",
              "  'never',\n",
              "  'onerun',\n",
              "  'pitching',\n",
              "  'said',\n",
              "  'scoreboard'],\n",
              " ['accepting',\n",
              "  'adding',\n",
              "  'already',\n",
              "  'assistance',\n",
              "  'begun',\n",
              "  'change',\n",
              "  'commission',\n",
              "  'customer',\n",
              "  'illinois',\n",
              "  'leadership',\n",
              "  'making',\n",
              "  'new',\n",
              "  'prepaidtuition',\n",
              "  'program',\n",
              "  'safeguard',\n",
              "  'say',\n",
              "  'stopped',\n",
              "  'student'],\n",
              " ['also',\n",
              "  'board',\n",
              "  'budget',\n",
              "  'concern',\n",
              "  'cut',\n",
              "  'expressed',\n",
              "  'fund',\n",
              "  'funding',\n",
              "  'general',\n",
              "  'get',\n",
              "  'going',\n",
              "  'member',\n",
              "  'much',\n",
              "  'per',\n",
              "  'reducing',\n",
              "  'saying',\n",
              "  'school',\n",
              "  'soup',\n",
              "  'student',\n",
              "  'thin',\n",
              "  'time',\n",
              "  'title',\n",
              "  'wrong'],\n",
              " ['2011',\n",
              "  'abe',\n",
              "  'agency',\n",
              "  'agent',\n",
              "  'also',\n",
              "  'basis',\n",
              "  'brandon',\n",
              "  'brown',\n",
              "  'chansi',\n",
              "  'dimitri',\n",
              "  'doled',\n",
              "  'elam',\n",
              "  'eric',\n",
              "  'factor',\n",
              "  'floyd',\n",
              "  'free',\n",
              "  'honor',\n",
              "  'jackson',\n",
              "  'jason',\n",
              "  'lawrence',\n",
              "  'loss',\n",
              "  'lost',\n",
              "  'matt',\n",
              "  'net',\n",
              "  'patterson',\n",
              "  'pick',\n",
              "  'playing',\n",
              "  'postseason',\n",
              "  'previous',\n",
              "  'roth',\n",
              "  'salary',\n",
              "  'signed',\n",
              "  'stuckey',\n",
              "  'team',\n",
              "  'time',\n",
              "  'trusnik',\n",
              "  'unrestricted',\n",
              "  'usama',\n",
              "  'vickers',\n",
              "  'vs.',\n",
              "  'womack',\n",
              "  'wright',\n",
              "  'year',\n",
              "  'young'],\n",
              " ['another',\n",
              "  'doable',\n",
              "  'find',\n",
              "  'go',\n",
              "  'got',\n",
              "  'happy',\n",
              "  'horse',\n",
              "  'job',\n",
              "  'like',\n",
              "  'make',\n",
              "  'outside',\n",
              "  'plan',\n",
              "  'position',\n",
              "  'six',\n",
              "  'sometimes',\n",
              "  'try']]"
            ]
          },
          "metadata": {},
          "execution_count": 34
        }
      ]
    },
    {
      "cell_type": "code",
      "source": [
        "textRDD.take(1), text_tokenized.take(1)"
      ],
      "metadata": {
        "colab": {
          "base_uri": "https://localhost:8080/"
        },
        "id": "twbw3jEJP7K_",
        "outputId": "19ecfd4b-9323-4196-d254-d0ee40ce7152"
      },
      "execution_count": 43,
      "outputs": [
        {
          "output_type": "execute_result",
          "data": {
            "text/plain": [
              "([('English',\n",
              "   '2009',\n",
              "   '\"\"\"I kept pitching like it was a one-run game,\"\" he said. \"\"I never even looked at the scoreboard.\"\"\"')],\n",
              " [['even',\n",
              "   'game',\n",
              "   'kept',\n",
              "   'like',\n",
              "   'looked',\n",
              "   'never',\n",
              "   'onerun',\n",
              "   'pitching',\n",
              "   'said',\n",
              "   'scoreboard']])"
            ]
          },
          "metadata": {},
          "execution_count": 43
        }
      ]
    },
    {
      "cell_type": "code",
      "source": [
        ""
      ],
      "metadata": {
        "id": "CCqpVJtFfQpr"
      },
      "execution_count": null,
      "outputs": []
    },
    {
      "cell_type": "markdown",
      "source": [
        ""
      ],
      "metadata": {
        "id": "CuEwWlw0dCMa"
      }
    },
    {
      "cell_type": "code",
      "source": [
        "import seaborn as sns\n",
        "import matplotlib.pyplot as plt"
      ],
      "metadata": {
        "id": "sAVjeB_lRGYp"
      },
      "execution_count": 36,
      "outputs": []
    },
    {
      "cell_type": "code",
      "source": [
        "lengths = text_tokenized.map(len) \\\n",
        "                       .collect()\n",
        "\n",
        "f, ax = plt.subplots(figsize = (12,8))\n",
        "sns.histplot(data = lengths, binwidth = 2, ax = ax)\n",
        "ax.set_xlabel(\"Number of words per document\")\n",
        "f.suptitle(\"Histogram of bag-of-words lengths\")\n",
        "plt.xlim([0, 120])\n"
      ],
      "metadata": {
        "colab": {
          "base_uri": "https://localhost:8080/",
          "height": 571
        },
        "id": "Y6er6uOxLT-t",
        "outputId": "9c91c585-c5b5-44c1-a1bf-477b62313007"
      },
      "execution_count": 50,
      "outputs": [
        {
          "output_type": "execute_result",
          "data": {
            "text/plain": [
              "(0.0, 120.0)"
            ]
          },
          "metadata": {},
          "execution_count": 50
        },
        {
          "output_type": "display_data",
          "data": {
            "text/plain": [
              "<Figure size 864x576 with 1 Axes>"
            ],
            "image/png": "[encoded data removed]"
          },
          "metadata": {
            "needs_background": "light"
          }
        }
      ]
    },
    {
      "cell_type": "markdown",
      "source": [
        "togli quelli che sono vuoti? cosi non vengono contati nel processo e fai vedere esempio di uno vuoto."
      ],
      "metadata": {
        "id": "ES1wRd2wUD-4"
      }
    },
    {
      "cell_type": "code",
      "source": [
        "text_tokenized.map(len).countByValue()"
      ],
      "metadata": {
        "colab": {
          "base_uri": "https://localhost:8080/"
        },
        "id": "gR5QUmegfUZ9",
        "outputId": "92b693cc-8c7b-4da2-8f71-4a23865de0fe"
      },
      "execution_count": 49,
      "outputs": [
        {
          "output_type": "execute_result",
          "data": {
            "text/plain": [
              "defaultdict(int,\n",
              "            {0: 36,\n",
              "             1: 761,\n",
              "             2: 2093,\n",
              "             3: 2258,\n",
              "             4: 2965,\n",
              "             5: 2708,\n",
              "             6: 2789,\n",
              "             7: 2676,\n",
              "             8: 2759,\n",
              "             9: 2929,\n",
              "             10: 3232,\n",
              "             11: 3377,\n",
              "             12: 3474,\n",
              "             13: 3620,\n",
              "             14: 3760,\n",
              "             15: 3883,\n",
              "             16: 3936,\n",
              "             17: 3738,\n",
              "             18: 3858,\n",
              "             19: 3757,\n",
              "             20: 3637,\n",
              "             21: 3470,\n",
              "             22: 3329,\n",
              "             23: 3057,\n",
              "             24: 2959,\n",
              "             25: 2646,\n",
              "             26: 2425,\n",
              "             27: 2174,\n",
              "             28: 2011,\n",
              "             29: 1870,\n",
              "             30: 1575,\n",
              "             31: 1455,\n",
              "             32: 1311,\n",
              "             33: 1135,\n",
              "             34: 1025,\n",
              "             35: 975,\n",
              "             36: 774,\n",
              "             37: 723,\n",
              "             38: 606,\n",
              "             39: 604,\n",
              "             40: 452,\n",
              "             41: 453,\n",
              "             42: 387,\n",
              "             43: 309,\n",
              "             44: 304,\n",
              "             45: 253,\n",
              "             46: 239,\n",
              "             47: 191,\n",
              "             48: 188,\n",
              "             49: 171,\n",
              "             50: 148,\n",
              "             51: 114,\n",
              "             52: 104,\n",
              "             53: 94,\n",
              "             54: 109,\n",
              "             55: 105,\n",
              "             56: 79,\n",
              "             57: 65,\n",
              "             58: 59,\n",
              "             59: 54,\n",
              "             60: 46,\n",
              "             61: 42,\n",
              "             62: 38,\n",
              "             63: 41,\n",
              "             64: 32,\n",
              "             65: 37,\n",
              "             66: 30,\n",
              "             67: 25,\n",
              "             68: 31,\n",
              "             69: 26,\n",
              "             70: 18,\n",
              "             71: 22,\n",
              "             72: 17,\n",
              "             73: 16,\n",
              "             74: 24,\n",
              "             75: 13,\n",
              "             76: 16,\n",
              "             77: 15,\n",
              "             78: 12,\n",
              "             79: 5,\n",
              "             80: 13,\n",
              "             81: 13,\n",
              "             82: 14,\n",
              "             83: 7,\n",
              "             84: 8,\n",
              "             85: 4,\n",
              "             86: 5,\n",
              "             87: 5,\n",
              "             88: 7,\n",
              "             89: 5,\n",
              "             90: 6,\n",
              "             91: 4,\n",
              "             92: 4,\n",
              "             93: 4,\n",
              "             94: 3,\n",
              "             95: 1,\n",
              "             96: 8,\n",
              "             97: 1,\n",
              "             98: 2,\n",
              "             99: 1,\n",
              "             100: 4,\n",
              "             101: 4,\n",
              "             102: 1,\n",
              "             103: 3,\n",
              "             104: 3,\n",
              "             105: 2,\n",
              "             106: 2,\n",
              "             107: 4,\n",
              "             110: 2,\n",
              "             111: 3,\n",
              "             112: 1,\n",
              "             113: 1,\n",
              "             115: 1,\n",
              "             116: 1,\n",
              "             117: 2,\n",
              "             119: 1,\n",
              "             124: 1,\n",
              "             125: 2,\n",
              "             126: 3,\n",
              "             131: 1,\n",
              "             133: 2,\n",
              "             136: 1,\n",
              "             137: 2,\n",
              "             140: 1,\n",
              "             142: 1,\n",
              "             144: 2,\n",
              "             145: 1,\n",
              "             149: 1,\n",
              "             153: 1,\n",
              "             154: 1,\n",
              "             155: 1,\n",
              "             165: 1,\n",
              "             173: 2,\n",
              "             175: 1,\n",
              "             179: 1,\n",
              "             182: 1,\n",
              "             204: 1,\n",
              "             665: 1})"
            ]
          },
          "metadata": {},
          "execution_count": 49
        }
      ]
    },
    {
      "cell_type": "code",
      "source": [
        ""
      ],
      "metadata": {
        "id": "Am8FQ07Afurg"
      },
      "execution_count": null,
      "outputs": []
    }
  ]
}